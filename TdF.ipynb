{
 "cells": [
  {
   "attachments": {},
   "cell_type": "markdown",
   "metadata": {},
   "source": [
    "# Tour de France historic analysis\n",
    "\n",
    "The Tour de France is one of, if not the largest bike races in the world, taking part as one of the three Grand Tours (Giro d'Italia and Vuelta a España being the other two). It is a stage based race, where riders must take part in each stage, and accumulated time is used for the *general classification* (GC), which determines the overall winner.\n",
    "\n",
    "Alongside the GC, there are 3 other categories in which riders compete:\n",
    "\n",
    "1. Points classification - typically for sprinters, achieved by winning points at sprints occurring during and at the end of certain stages\n",
    "2. King/Queen of the Mountains (KoM) - points are attributed to riders in the order they scale classified mountains\n",
    "3. Best Young Rider - the best placed rider under the age of 25\n",
    "\n",
    "Competitions are denoted by differently coloured jerseys. While these differ across each Grand Tour, the Tour de France follows the format of yellow jersey for GC, green jersey for points, polkadot jersey for KoM/QoM, and white jersey for best young rider.\n",
    "\n",
    "Competitions are not distinct from each other, and a single rider can lead any combination of the 4 competitions, however, will only wear one jersey during the race, with the other jerseys 'lent' to the next best rider during stages.\n",
    "\n",
    "<p align=\"center\">\n",
    "  <img src=\"https://library.sportingnews.com/2022-07/tour-de-france-jerseys-072222-getty-ftr.jpg\" alt=\"The four TdF Jerseys\"/>\n",
    "</p>\n",
    "\n",
    "Teams' different competion goals at the Tour can often define both their tactics and the way in which they prepare team composition. There is, therefore, a huge amount of analysis involved in the tour, and using this dataset, I will try to explore it further.\n",
    "\n",
    "Firstly, my thanks to user PABLOMONLEON for collating this dataset for use on Kaggle."
   ]
  },
  {
   "cell_type": "code",
   "execution_count": 3,
   "metadata": {},
   "outputs": [],
   "source": [
    "import Pkg\n",
    "\n",
    "# Pkg.add([\"DataFrames\",\"Plots\",\"MLJ\",\"CSV\",\"StatsPlots\",\"Dictionaries\",\"Dates\",\"DataFramesMeta\",\"HTTP\",\"Gumbo\",\"AbstractTrees\",\"TableScraper\",\"Cascadia\"])\n",
    "using DataFrames, DataFramesMeta, Plots, StatsPlots, Dictionaries, MLJ, CSV, Dates, HTTP, Gumbo, AbstractTrees, Cascadia, TableScraper\n",
    "\n",
    "# readin\n",
    "# files=readdir(pwd() * \"/TdFArchive/\")\n",
    "\n",
    "# stages,stagesFull,winner = [CSV.File(pwd()*\"/TdFArchive/\"*x) |> DataFrame for x in files];"
   ]
  },
  {
   "attachments": {},
   "cell_type": "markdown",
   "metadata": {},
   "source": [
    "The data collected contains information on the stages themselves, the stage results, and the winner for each edition. First, we can take a look at the conditions regarding the stages over time. For example, how do the distance vary over time?\n",
    "\n",
    "## Stages through the ages"
   ]
  },
  {
   "cell_type": "code",
   "execution_count": 2,
   "metadata": {},
   "outputs": [
    {
     "ename": "UndefVarError",
     "evalue": "UndefVarError: stagesFull not defined",
     "output_type": "error",
     "traceback": [
      "UndefVarError: stagesFull not defined\n",
      "\n",
      "Stacktrace:\n",
      " [1] top-level scope\n",
      "   @ g:\\Documents\\GitHub\\TdF\\TdF.ipynb:1"
     ]
    }
   ],
   "source": [
    "@df stagesFull scatter(\n",
    "    :Date,\n",
    "    :Distance,\n",
    "    label = \"Stage distance (km)\"\n",
    ")"
   ]
  },
  {
   "attachments": {},
   "cell_type": "markdown",
   "metadata": {},
   "source": [
    "First off, we can just how incredibly long the Tour stages used to be compared to the current lengths. All the more incredible realising that until 1937, participants were required to ride on single gear bikes with wooden rims. Following the Second World War and the death of the Tour's progenitor, Henri Desgranges, the Tour settled into a more typical 20-25 stages usually lasting a day. This much is clearly visible from the above plot. If we include information on the types of stages involved:"
   ]
  },
  {
   "cell_type": "code",
   "execution_count": 3,
   "metadata": {},
   "outputs": [
    {
     "ename": "UndefVarError",
     "evalue": "UndefVarError: stagesFull not defined",
     "output_type": "error",
     "traceback": [
      "UndefVarError: stagesFull not defined\n",
      "\n",
      "Stacktrace:\n",
      " [1] top-level scope\n",
      "   @ g:\\Documents\\GitHub\\TdF\\TdF.ipynb:10"
     ]
    }
   ],
   "source": [
    "function standardTypes(types)\n",
    "    stageTypes = Dictionary([\"flat\",\"cobbles\",\"mountain\",\"tt\"],[(\"flat stage\",\"intermediate stage\",\"plain stage\",\"transition stage\"),(\"flat cobblestone stage\",\"plain stage with cobblestones\"),(\"high mountain stage\",\"hilly stage\",\"medium mountain stage\",\"mountain stage\",\"stage with mountain\",\"stage with mountain(s)\"),(\"individual time trial\",\"mountain time trial\")])    \n",
    "    vs = fill(\"\",length(types))\n",
    "    for key in keys(stageTypes)\n",
    "        inds = findall(Bool.(sum([lowercase.(types) .== x for x in stageTypes[key]])))\n",
    "        types[inds] .= key\n",
    "    end\n",
    "    return types\n",
    "end\n",
    "stagesFull.Type = standardTypes(stagesFull.Type);\n",
    "\n",
    "@df stagesFull scatter(\n",
    "    :Date,\n",
    "    :Distance,\n",
    "    group = :Type,\n",
    "    ylabel = \"Distance (km)\"\n",
    ")"
   ]
  },
  {
   "attachments": {},
   "cell_type": "markdown",
   "metadata": {},
   "source": [
    "Moving from those early flat or mountain stages, all brutally long, to the introduction of teams (much to Desgranges' chagrin) with team and individual time trials, there is a gradual increase in the variety of stage type seen throughout the tour. It appears, therefore, that the variation in stages observed in the tour hasn't changed too dramatically since the mid to late 1940's. Would it, therefore, be safe to assume that the winners of the Tour have also not varied much in formula since those days?\n",
    "\n",
    "## Winning qualities"
   ]
  },
  {
   "cell_type": "code",
   "execution_count": 4,
   "metadata": {},
   "outputs": [
    {
     "ename": "UndefVarError",
     "evalue": "UndefVarError: winner not defined",
     "output_type": "error",
     "traceback": [
      "UndefVarError: winner not defined\n",
      "\n",
      "Stacktrace:\n",
      " [1] top-level scope\n",
      "   @ g:\\Documents\\GitHub\\TdF\\TdF.ipynb:1"
     ]
    }
   ],
   "source": [
    "@df winner scatter(\n",
    "    :start_date,\n",
    "    :weight./:height.^2,\n",
    "    group=:nationality,\n",
    "    legend=:best,\n",
    "    legendcolumns=3,\n",
    "    ylabel=\"BMI\",\n",
    "    markeralpha=0.8\n",
    ")\n",
    "bigDogs = Bool.(sum([winner.winner_name .== x for x in [\"Lance Armstrong\", \"Miguel Induráin\", \"Eddy Merckx\"]]))\n",
    "# findall(winner.winner_name .== \"Lance Armstrong\")\n",
    "annotate!(winner.start_date[Int(round(mean(findall(winner.winner_name .== \"Lance Armstrong\"))))],\n",
    "    winner.weight[findall(winner.winner_name .== \"Lance Armstrong\")]./winner.height[findall(winner.winner_name .== \"Lance Armstrong\")].^2 .+ .2,\n",
    "    text(\"Armstrong\",10,:bottom))\n",
    "annotate!(winner.start_date[Int(round(mean(findall(winner.winner_name .== \"Miguel Induráin\"))))],\n",
    "    winner.weight[findall(winner.winner_name .== \"Miguel Induráin\")]./winner.height[findall(winner.winner_name .== \"Miguel Induráin\")].^2 .+ .2,\n",
    "    text(\"Induráin\",10,:bottom))\n",
    "annotate!(winner.start_date[Int(round(mean(findall(winner.winner_name .== \"Eddy Merckx\"))))],\n",
    "    winner.weight[findall(winner.winner_name .== \"Eddy Merckx\")]./winner.height[findall(winner.winner_name .== \"Eddy Merckx\")].^2 .+ .2,\n",
    "    text(\"Merckx\",10,:bottom))"
   ]
  },
  {
   "attachments": {},
   "cell_type": "markdown",
   "metadata": {},
   "source": [
    "With a greater focus on nutrition and modern science applied to training, we see that there is indeed a downward trend in BMI over the years. Some notable exceptions are present, those of Eddy Merckx (1969:1974), Miguel Induráin (1991:1995), and Lance Armstrong (1999:2005). \n",
    "\n",
    "Induráin had an extensive legacy on the Tour in being arguably the first time trial specialist to dominate the sport, winning individual time trials by such margins that he could 'get by' in the mountain stages.\n",
    "\n",
    "Merckx was a phenomenal cyclist who has the joint most stages wins at the Tour, and even won the points jersey in 1969, 1971, 1972, and KoM in 1969 and 1970, alongside winning the yellow jersey in each year.\n",
    "\n",
    "Armstrong infamously 'won' 7 TdF titles via a sophisticated doping system (albeit during a period tainted by serial performance enhancing scandals, indicative of a peloton-wide epidemic). \n",
    "\n",
    "These three cyclists all show quite high BMI values, where Induráin was known for his considerable size for a cyclist, and Armstrong's high BMI may be testament to his doping programme. Overall, however, a downward trend is certainly prevalent. One area that is interesting is speeds at which winners travelled across all competition stages."
   ]
  },
  {
   "cell_type": "code",
   "execution_count": 5,
   "metadata": {},
   "outputs": [
    {
     "ename": "UndefVarError",
     "evalue": "UndefVarError: winner not defined",
     "output_type": "error",
     "traceback": [
      "UndefVarError: winner not defined\n",
      "\n",
      "Stacktrace:\n",
      " [1] top-level scope\n",
      "   @ g:\\Documents\\GitHub\\TdF\\TdF.ipynb:1"
     ]
    }
   ],
   "source": [
    "scatter(\n",
    "    winner.start_date,\n",
    "    winner.distance./winner.time_overall,\n",
    "    label=\"Overall speed (kmh)\"\n",
    "    # legend = nothing\n",
    "    # legend=:topright\n",
    ")"
   ]
  },
  {
   "attachments": {},
   "cell_type": "markdown",
   "metadata": {},
   "source": [
    "We see that a general increase in speed has occurred over time. An interesting area of analysis is looking at general trends of speeds comparing the 'doping era' of the 80s-2000s."
   ]
  },
  {
   "cell_type": "code",
   "execution_count": 6,
   "metadata": {},
   "outputs": [
    {
     "data": {
      "text/plain": [
       "sepName (generic function with 1 method)"
      ]
     },
     "metadata": {},
     "output_type": "display_data"
    }
   ],
   "source": [
    "using Unicode\n",
    "\n",
    "function sepName(name)\n",
    "    #=\n",
    "    Generate Regex expression to search for all names, in any order. Will remove accents, must be accounted for when searching through match\n",
    "\n",
    "    Args:\n",
    "        name:   string of full name\n",
    "\n",
    "    Returns:\n",
    "        Regex formatted expression of appropriate search term\n",
    "\n",
    "    Example:\n",
    "        >>> sepName(\"Stêphen La Faîre\")\n",
    "        >>> r\"^(?=.*\\bStephen\\b).*^(?=.*\\bLa\\b).*^(?=.*\\bFaire\\b).*\"\n",
    "    =#\n",
    "    name = Unicode.normalize(name,stripmark=true) # remove accents\n",
    "    inds = [collect(x)[1] for x in findall.(\" \", name)] # find spaces\n",
    "    prepend!(append!(inds,length(name)+1),0)\n",
    "    ranges = [collect(range(inds[x]+1,inds[x+1]-1)) for x in 1:length(inds)-1] # extract name indices only\n",
    "    names = [name[x] for x in ranges] # return list of names\n",
    "    return Regex(join([\"^(?=.*\\\\b\" * x * \"\\\\b).*\" for x in names]))\n",
    "end"
   ]
  },
  {
   "cell_type": "code",
   "execution_count": 7,
   "metadata": {},
   "outputs": [
    {
     "ename": "UndefVarError",
     "evalue": "UndefVarError: stages not defined",
     "output_type": "error",
     "traceback": [
      "UndefVarError: stages not defined\n",
      "\n",
      "Stacktrace:\n",
      " [1] top-level scope\n",
      "   @ C:\\Users\\arang\\.julia\\packages\\DataFramesMeta\\nI3Y1\\src\\macros.jl:2133"
     ]
    }
   ],
   "source": [
    "# calculate the number of riders per stage\n",
    "stageSummary = @combine(groupby(stages,[:year,:Stage]),\n",
    "    :N = length(:rank),\n",
    "    :Age = mean(:age)\n",
    "    )\n",
    "\n",
    "@df stageSummary scatter(:year,\n",
    "    :N,\n",
    "    label=\"Number of riders\")\n",
    "\n",
    "maximum(out.year)"
   ]
  },
  {
   "cell_type": "code",
   "execution_count": 8,
   "metadata": {},
   "outputs": [
    {
     "ename": "UndefVarError",
     "evalue": "UndefVarError: winner not defined",
     "output_type": "error",
     "traceback": [
      "UndefVarError: winner not defined\n",
      "\n",
      "Stacktrace:\n",
      " [1] top-level scope\n",
      "   @ g:\\Documents\\GitHub\\TdF\\TdF.ipynb:3"
     ]
    }
   ],
   "source": [
    "# out = DataFrame(Stage = String3[], Date = Date[], Distance = Float64[], Origin = String[], Destination = String31[], Type = String31[], Winner = String[], Winner_Country = Union{Missing, String31}, edition = Int64[], year = Int64[], stage_results_id = String15[], rank = String7[], time = Union{Missing, String3}, rider = String[], age = Union{Missing, Float64}, team = Union{Missing, String}, points = Union{Missing, Float64}, elapsed = Union{Missing, String3}, bib_number = Union{Missing, Float64})\n",
    "out = DataFrame()\n",
    "for (win,yr) in zip(winner[:,:winner_name],Dates.year.(Date.(winner.start_date)))\n",
    "    indivInfo = stages[(occursin.(sepName(win),Unicode.normalize.(stages.rider,stripmark=true))) .& (yr .== stages.year),:]\n",
    "    indivInfo.Stage .= replace.(indivInfo.stage_results_id,r\"[^0-9]\" => \"\")\n",
    "    indivInfo.rank .= replace.(indivInfo.rank,r\"[^0-9]\" => \"\")\n",
    "    stageInfo = stagesFull[(Dates.year.(Date.(stagesFull.Date)) .== yr),:]\n",
    "    append!(out,innerjoin(indivInfo,stageInfo,on=:Stage),promote=true, cols == :union)\n",
    "end\n",
    "out.rank = parse.(Int64,out.rank);"
   ]
  },
  {
   "cell_type": "code",
   "execution_count": 9,
   "metadata": {},
   "outputs": [],
   "source": [
    "# within each grouping, we want to define the relative rank of the rider, i.e. the rank/number of participants in that stage\n",
    "# for (win,yr) in zip(winner[:,:winner_name],Dates.year.(Date.(winner.start_date)))\n",
    "#     ranks = stages[(occursin.(sepName(win),Unicode.normalize.(stages.rider,stripmark=true))) .& (yr .== stages.year),:rank]\n",
    "#     # ranks ./ stageSummary[(yr. == stageSummary.year),:N]\n",
    "# end\n",
    "\n",
    "\n",
    "# win = winner.winner_name[30]\n",
    "# yr = Dates.year.(Date.(winner.start_date))[30]\n",
    "# ranks = parse.(Int64,stages[(occursin.(sepName(win),Unicode.normalize.(stages.rider,stripmark=true))) .& (yr .== stages.year),:rank])\n"
   ]
  },
  {
   "cell_type": "code",
   "execution_count": 10,
   "metadata": {},
   "outputs": [
    {
     "ename": "UndefVarError",
     "evalue": "UndefVarError: stages not defined",
     "output_type": "error",
     "traceback": [
      "UndefVarError: stages not defined\n",
      "\n",
      "Stacktrace:\n",
      " [1] top-level scope\n",
      "   @ C:\\Users\\arang\\.julia\\packages\\DataFramesMeta\\nI3Y1\\src\\macros.jl:2133"
     ]
    }
   ],
   "source": [
    "teamSummary = dropmissing(@combine(groupby(stages[occursin.(r\"^[0-9]\",stages.rank),:],[:team,:year]),\n",
    "    :aveAge = mean(:age),\n",
    "    :aveRank = mean(parse.(Int64,:rank))))\n",
    "    \n",
    "# plot(bar(teamSummary.year, teamSummary.aveRank))\n",
    "    # @df teamSummary scatter(:year,\n",
    "    # :aveAge,\n",
    "    # label = \"Average team age\")\n",
    "teamSummary"
   ]
  },
  {
   "attachments": {},
   "cell_type": "markdown",
   "metadata": {},
   "source": [
    "Knowing that cycling is a highly team-oriented, sport, if we look at the average age of riders in a team, that number has gradually increased, particularly "
   ]
  },
  {
   "cell_type": "code",
   "execution_count": 11,
   "metadata": {},
   "outputs": [
    {
     "ename": "MethodError",
     "evalue": "MethodError: no method matching _extract_group_attributes(::Symbol, ::Symbol, ::Symbol)\nClosest candidates are:\n  _extract_group_attributes(!Matched::AbstractVector{T} where T, ::Any...; legend_entry) at C:\\Users\\arang\\.julia\\packages\\RecipesPipeline\\BGM3l\\src\\group.jl:10\n  _extract_group_attributes(!Matched::Tuple, ::Any...) at C:\\Users\\arang\\.julia\\packages\\RecipesPipeline\\BGM3l\\src\\group.jl:27\n  _extract_group_attributes(!Matched::NamedTuple, ::Any...) at C:\\Users\\arang\\.julia\\packages\\RecipesPipeline\\BGM3l\\src\\group.jl:36\n  ...",
     "output_type": "error",
     "traceback": [
      "MethodError: no method matching _extract_group_attributes(::Symbol, ::Symbol, ::Symbol)\n",
      "Closest candidates are:\n",
      "  _extract_group_attributes(!Matched::AbstractVector{T} where T, ::Any...; legend_entry) at C:\\Users\\arang\\.julia\\packages\\RecipesPipeline\\BGM3l\\src\\group.jl:10\n",
      "  _extract_group_attributes(!Matched::Tuple, ::Any...) at C:\\Users\\arang\\.julia\\packages\\RecipesPipeline\\BGM3l\\src\\group.jl:27\n",
      "  _extract_group_attributes(!Matched::NamedTuple, ::Any...) at C:\\Users\\arang\\.julia\\packages\\RecipesPipeline\\BGM3l\\src\\group.jl:36\n",
      "  ...\n",
      "\n",
      "Stacktrace:\n",
      " [1] _recipedata_vector(plt::Any, plotattributes::Any, args::Any)\n",
      "   @ RecipesPipeline C:\\Users\\arang\\.julia\\packages\\RecipesPipeline\\BGM3l\\src\\user_recipe.jl:59\n",
      " [2] _process_userrecipes!(plt::Any, plotattributes::Any, args::Any)\n",
      "   @ RecipesPipeline C:\\Users\\arang\\.julia\\packages\\RecipesPipeline\\BGM3l\\src\\user_recipe.jl:13\n",
      " [3] recipe_pipeline!(plt::Any, plotattributes::Any, args::Any)\n",
      "   @ RecipesPipeline C:\\Users\\arang\\.julia\\packages\\RecipesPipeline\\BGM3l\\src\\RecipesPipeline.jl:72\n",
      " [4] _plot!(plt::Plots.Plot, plotattributes::Any, args::Any)\n",
      "   @ Plots C:\\Users\\arang\\.julia\\packages\\Plots\\rz1WP\\src\\plot.jl:223"
     ]
    }
   ],
   "source": [
    "@df out scatter(:year,\n",
    "    :rank,\n",
    "    group = :Winner,\n",
    "    legend = nothing,\n",
    "    ylabel = \"Finish rank\",\n",
    "    xlabel = \"Stage number\")"
   ]
  },
  {
   "cell_type": "code",
   "execution_count": 12,
   "metadata": {},
   "outputs": [
    {
     "ename": "UndefVarError",
     "evalue": "UndefVarError: winner not defined",
     "output_type": "error",
     "traceback": [
      "UndefVarError: winner not defined\n",
      "\n",
      "Stacktrace:\n",
      " [1] top-level scope\n",
      "   @ g:\\Documents\\GitHub\\TdF\\TdF.ipynb:3"
     ]
    }
   ],
   "source": [
    "# [findall.(\" \",winner.winner_name[23]),length(winner.winner_name[23])]\n",
    "\n",
    "inds = [collect(x)[1] for x in findall.(\" \", winner.winner_name[23])]\n",
    "\n",
    "# deleteat!(collect(1:length(winner.winner_name[23])),findall.(\" \", winner.winner_name[23])[1])\n",
    "prepend!(append!(inds,length(winner.winner_name[23])+1),0)\n",
    "ranges = [collect(range(inds[x]+1,inds[x+1]-1)) for x in 1:length(inds)-1]\n",
    "# r\"+\" * [r\"(?=.*\\b\" * winner.winner_name[23][x] * r\"\\b)\" for x in ranges]\n",
    "\n",
    "# r\"(?=.*\\b\" * winner.winner_name[23][ranges[1]] * r\"\\b)\"\n",
    "# print(match(r\"^\" * Regex(join([\"(?=.*\\b\" * winner.winner_name[23][x] * \"\\b)\" for x in ranges])) * r\".*$\",winner.winner_name[23]))\n",
    "# r\"^\" * Regex(join([\"(?=.*\\b\" * winner.winner_name[23][x] * \"\\b)\" for x in ranges])) * r\".*$\",winner.winner_name[23]\n",
    "names = [winner.winner_name[23][x] for x in ranges]\n",
    "occursin(Regex(join([\"^(?=.*\\\\b\" * x * \"\\\\b).*\" for x in names])),winner.winner_name[21])\n",
    "# ^(?=.*\\bSidney\\b)(?=.*\\bAlice\\b)(?=.*\\bPeter\\b).*$\n",
    "\n"
   ]
  },
  {
   "cell_type": "code",
   "execution_count": 13,
   "metadata": {},
   "outputs": [
    {
     "ename": "UndefVarError",
     "evalue": "UndefVarError: winner not defined",
     "output_type": "error",
     "traceback": [
      "UndefVarError: winner not defined\n",
      "\n",
      "Stacktrace:\n",
      " [1] top-level scope\n",
      "   @ g:\\Documents\\GitHub\\TdF\\TdF.ipynb:1"
     ]
    }
   ],
   "source": [
    "occursin(Regex(\"(?=.*\\\\bMaurice\\\\b).*(?=.*\\\\bDe\\\\b).*(?=.*\\\\bWaele\\\\b).*\"),winner.winner_name[23])"
   ]
  },
  {
   "cell_type": "code",
   "execution_count": 14,
   "metadata": {},
   "outputs": [
    {
     "ename": "UndefVarError",
     "evalue": "UndefVarError: stages not defined",
     "output_type": "error",
     "traceback": [
      "UndefVarError: stages not defined\n",
      "\n",
      "Stacktrace:\n",
      " [1] top-level scope\n",
      "   @ g:\\Documents\\GitHub\\TdF\\TdF.ipynb:1"
     ]
    }
   ],
   "source": [
    "Unicode.normalize.(stages.rider,stripmark=true)"
   ]
  },
  {
   "cell_type": "code",
   "execution_count": 15,
   "metadata": {},
   "outputs": [],
   "source": [
    "# scrape wikipedia "
   ]
  },
  {
   "attachments": {},
   "cell_type": "markdown",
   "metadata": {},
   "source": [
    "## Scraping procyclingstats.com\n",
    "\n",
    "To gain access to more data, we'll scrape through some [procyclingstats](https://www.procyclingstats.com/index.php) pages to extract full stage data. This requires some wrangling of the data, especially as TTT stages are not formatted as the others. However, it will allow us far greater information, and we can really dig into what each rider goes through, the team composition, and the winners' journeys to the yellow jersey."
   ]
  },
  {
   "cell_type": "code",
   "execution_count": 4,
   "metadata": {},
   "outputs": [
    {
     "data": {
      "text/plain": [
       "stageResults (generic function with 1 method)"
      ]
     },
     "metadata": {},
     "output_type": "display_data"
    }
   ],
   "source": [
    "function numStages(year::Int)\n",
    "    # determine number of stages of the Tour de France in `year`, if a race was run. Data pulled from procyclingstats.com\n",
    "    try\n",
    "        out = [split(x,\" | \")[1] for x in DataFrame(scrape_tables(\"https://www.procyclingstats.com/race/tour-de-france/\" * string(year))[2]).Stage]\n",
    "        filter!(x -> !isnothing(x), out)\n",
    "        return out\n",
    "    catch\n",
    "        return missing\n",
    "    end\n",
    "end\n",
    "\n",
    "function checkTTT(url)\n",
    "    # check if stage is TTT\n",
    "    r = HTTP.get(url)\n",
    "    r_parsed = parsehtml(String(r.body))\n",
    "    tables_elems = eachmatch(sel\"table\", r_parsed.root)\n",
    "    return contains(getattr(tables_elems[1],\"class\"),\"ttt\")\n",
    "end\n",
    "\n",
    "function formatTimelag(tlag)\n",
    "    # standardise timelag to HH:MM:SS\n",
    "\n",
    "    # remove +\n",
    "    tlag = replace(tlag,\"+\" => \"\")\n",
    "    # check if empty (to be copied from above)\n",
    "    if tlag != \"\"\n",
    "        # check if only mins and seconds\n",
    "        if isnothing(match(r\"(:\\d\\d:\\d\\d)\",tlag))\n",
    "            # if only one min value\n",
    "            isnothing(match(r\"(\\d\\d:\\d\\d)\",tlag)) ? tlag = \"00:0\" * tlag : tlag = \"00:\" * tlag\n",
    "        end\n",
    "    end\n",
    "    return tlag\n",
    "end\n",
    "\n",
    "# function fullTTT(url,stage)\n",
    "#     # add times for each individual rider of TTT and return format similar to standard stages\n",
    "#     df = DataFrame(scrape_tables(url)[1])\n",
    "#     inds = append!(findall(df[:,\"Pos.\"] .!= \"\"),nrow(df))\n",
    "#     df.Rnk = missings(String, nrow(df))\n",
    "#     df.Rider = missings(String, nrow(df))\n",
    "#     df.Timelag = missings(String, nrow(df))\n",
    "#     for x in 1:(length(inds) - 1)\n",
    "#         df.Rnk[(inds[x]+1):(inds[x+1]-1)] .= df[inds[x],\"Pos.\"]\n",
    "#         df.Rider[(inds[x]+1):(inds[x+1]-1)] .= df.Team[(inds[x]+1):(inds[x+1]-1)] .* df.Team[inds[x]]\n",
    "#         df.Team[(inds[x]+1):(inds[x+1]-1)] .= df.Team[inds[x]]\n",
    "#         df.Timelag[(inds[x]+1):(inds[x+1]-1)] .= \"+\" * df.Timegap[inds[x]]\n",
    "#     end\n",
    "#     df.Rnk[nrow(df)] = df.Rnk[nrow(df) - 1]\n",
    "#     df.Rider[nrow(df)] = df.Team[nrow(df)] * df.Team[inds[length(inds)]]\n",
    "#     df.Team[nrow(df)] = df.Team[nrow(df) - 1]\n",
    "#     df.Timelag[findall(skipmissing(df.Timelag .== \"+\"))] .= \"+0.00\"\n",
    "#     deleteat!(df,unique(inds))\n",
    "#     return insertcols!(df,1,:Stage => string(stage)),cols=:union\n",
    "# end\n",
    "\n",
    "function stageResults(year::Int)\n",
    "    # extract all stage results for `year` Tour de France. Returns DataFrame\n",
    "    numStag = numStages(year) # list all stages in tour if any\n",
    "    if !ismissing(numStag)\n",
    "        out = DataFrame()\n",
    "        for stage in numStag\n",
    "            url = \"https://www.procyclingstats.com/race/tour-de-france/\" * string(year) *\"/\" * lowercase(replace(rsplit(stage,\" \";limit=2)[1],\" \" => \"-\"))\n",
    "            # check if stage is TTT\n",
    "            if checkTTT(url)\n",
    "                append!(out,fullTTT(url,stage))\n",
    "            else\n",
    "                append!(out,insertcols!(DataFrame(scrape_tables(url)[1]),1,:Stage => string(stage)),cols=:union)\n",
    "            end\n",
    "        end\n",
    "        out.Timelag = formatTimelag.(out.Timelag)\n",
    "        return out\n",
    "    end\n",
    "end"
   ]
  },
  {
   "cell_type": "code",
   "execution_count": 7,
   "metadata": {},
   "outputs": [
    {
     "data": {
      "text/plain": [
       "\"https://www.procyclingstats.com/race/tour-de-france/year/stage-6b\""
      ]
     },
     "metadata": {},
     "output_type": "display_data"
    }
   ],
   "source": [
    "test = numStages(1974)\n",
    "# if any(contains.(test,r\"\\d[a-z]\")) # check for presence of multi-stage days\n",
    "\n",
    "# end\n",
    "\n",
    "# test\n",
    "\"https://www.procyclingstats.com/race/tour-de-france/\" * string(year) *\"/\" * lowercase(replace(rsplit(test[8],\" \";limit=2)[1],\" \" => \"-\"))"
   ]
  },
  {
   "cell_type": "code",
   "execution_count": 18,
   "metadata": {},
   "outputs": [
    {
     "data": {
      "text/plain": [
       "\"team/kas-kaskol-1974\""
      ]
     },
     "metadata": {},
     "output_type": "display_data"
    }
   ],
   "source": [
    "url=\"https://www.procyclingstats.com/race/tour-de-france/1974/stage-6b\"\n",
    "# check if stage is TTT\n",
    "r = HTTP.get(url)\n",
    "r_parsed = parsehtml(String(r.body))\n",
    "tables_elems = eachmatch(sel\"table\", r_parsed.root)\n",
    "# eachmatch(sel\"tr th\", tables_elems[1])\n",
    "\n",
    "\n",
    "# [getattr(x,\"href\") for x in eachmatch(sel\"a\",tables_elems)]\n",
    "test = eachmatch(sel\"a\",tables_elems[1])\n",
    "getattr(test[2],\"href\")"
   ]
  },
  {
   "cell_type": "code",
   "execution_count": 19,
   "metadata": {},
   "outputs": [
    {
     "data": {
      "text/html": [
       "<div><div style = \"float: left;\"><span>21×14 DataFrame</span></div><div style = \"clear: both;\"></div></div><div class = \"data-frame\" style = \"overflow-x: scroll;\"><table class = \"data-frame\" style = \"margin-bottom: 6px;\"><thead><tr class = \"header\"><th class = \"rowNumber\" style = \"font-weight: bold; text-align: right;\">Row</th><th style = \"text-align: left;\">Stage</th><th style = \"text-align: left;\">Rnk</th><th style = \"text-align: left;\">GC</th><th style = \"text-align: left;\">Timelag</th><th style = \"text-align: left;\">BIB</th><th style = \"text-align: left;\">H2H</th><th style = \"text-align: left;\">Specialty</th><th style = \"text-align: left;\">Rider</th><th style = \"text-align: left;\">Age</th><th style = \"text-align: left;\">Team</th><th style = \"text-align: left;\">UCI</th><th style = \"text-align: left;\">Pnt</th><th style = \"text-align: left;\"></th><th style = \"text-align: left;\">Time</th></tr><tr class = \"subheader headerLastRow\"><th class = \"rowNumber\" style = \"font-weight: bold; text-align: right;\"></th><th title = \"String\" style = \"text-align: left;\">String</th><th title = \"String\" style = \"text-align: left;\">String</th><th title = \"String\" style = \"text-align: left;\">String</th><th title = \"String\" style = \"text-align: left;\">String</th><th title = \"String\" style = \"text-align: left;\">String</th><th title = \"String\" style = \"text-align: left;\">String</th><th title = \"String\" style = \"text-align: left;\">String</th><th title = \"String\" style = \"text-align: left;\">String</th><th title = \"String\" style = \"text-align: left;\">String</th><th title = \"String\" style = \"text-align: left;\">String</th><th title = \"String\" style = \"text-align: left;\">String</th><th title = \"String\" style = \"text-align: left;\">String</th><th title = \"String\" style = \"text-align: left;\">String</th><th title = \"String\" style = \"text-align: left;\">String</th></tr></thead><tbody><tr><td class = \"rowNumber\" style = \"font-weight: bold; text-align: right;\">1</td><td style = \"text-align: left;\">Stage 6a</td><td style = \"text-align: left;\">50</td><td style = \"text-align: left;\"></td><td style = \"text-align: left;\"></td><td style = \"text-align: left;\">101</td><td style = \"text-align: left;\"></td><td style = \"text-align: left;\">GC</td><td style = \"text-align: left;\">PINGEON RogerJobo - Lejeune</td><td style = \"text-align: left;\">33</td><td style = \"text-align: left;\">Jobo - Lejeune</td><td style = \"text-align: left;\"></td><td style = \"text-align: left;\"></td><td style = \"text-align: left;\"></td><td style = \"text-align: left;\">,,0:27</td></tr><tr><td class = \"rowNumber\" style = \"font-weight: bold; text-align: right;\">2</td><td style = \"text-align: left;\">Stage 6a</td><td style = \"text-align: left;\">51</td><td style = \"text-align: left;\">12</td><td style = \"text-align: left;\">+1:02</td><td style = \"text-align: left;\">11</td><td style = \"text-align: left;\"></td><td style = \"text-align: left;\">TT</td><td style = \"text-align: left;\">AGOSTINHO JoaquimBic</td><td style = \"text-align: left;\">31</td><td style = \"text-align: left;\">Bic</td><td style = \"text-align: left;\"></td><td style = \"text-align: left;\"></td><td style = \"text-align: left;\"></td><td style = \"text-align: left;\">,,0:27</td></tr><tr><td class = \"rowNumber\" style = \"font-weight: bold; text-align: right;\">3</td><td style = \"text-align: left;\">Stage 6a</td><td style = \"text-align: left;\">52</td><td style = \"text-align: left;\">10</td><td style = \"text-align: left;\">+0:55</td><td style = \"text-align: left;\">71</td><td style = \"text-align: left;\"></td><td style = \"text-align: left;\">TT</td><td style = \"text-align: left;\">MANZANEQUE JesúsLa Casera - Bahamontes</td><td style = \"text-align: left;\">31</td><td style = \"text-align: left;\">La Casera - Bahamontes</td><td style = \"text-align: left;\"></td><td style = \"text-align: left;\"></td><td style = \"text-align: left;\"></td><td style = \"text-align: left;\">,,0:27</td></tr><tr><td class = \"rowNumber\" style = \"font-weight: bold; text-align: right;\">4</td><td style = \"text-align: left;\">Stage 6a</td><td style = \"text-align: left;\">53</td><td style = \"text-align: left;\"></td><td style = \"text-align: left;\"></td><td style = \"text-align: left;\">49</td><td style = \"text-align: left;\"></td><td style = \"text-align: left;\">Sprint</td><td style = \"text-align: left;\">VAN NESTE WillySonolor - Gitane</td><td style = \"text-align: left;\">30</td><td style = \"text-align: left;\">Sonolor - Gitane</td><td style = \"text-align: left;\"></td><td style = \"text-align: left;\"></td><td style = \"text-align: left;\"></td><td style = \"text-align: left;\">,,0:27</td></tr><tr><td class = \"rowNumber\" style = \"font-weight: bold; text-align: right;\">5</td><td style = \"text-align: left;\">Stage 6a</td><td style = \"text-align: left;\">54</td><td style = \"text-align: left;\"></td><td style = \"text-align: left;\"></td><td style = \"text-align: left;\">9</td><td style = \"text-align: left;\"></td><td style = \"text-align: left;\">Sprint</td><td style = \"text-align: left;\">SPRUYT JosMolteni</td><td style = \"text-align: left;\">31</td><td style = \"text-align: left;\">Molteni</td><td style = \"text-align: left;\"></td><td style = \"text-align: left;\"></td><td style = \"text-align: left;\"></td><td style = \"text-align: left;\">,,0:27</td></tr><tr><td class = \"rowNumber\" style = \"font-weight: bold; text-align: right;\">6</td><td style = \"text-align: left;\">Stage 6a</td><td style = \"text-align: left;\">55</td><td style = \"text-align: left;\"></td><td style = \"text-align: left;\"></td><td style = \"text-align: left;\">21</td><td style = \"text-align: left;\"></td><td style = \"text-align: left;\">GC</td><td style = \"text-align: left;\">THÉVENET BernardPeugeot - BP - Michelin</td><td style = \"text-align: left;\">26</td><td style = \"text-align: left;\">Peugeot - BP - Michelin</td><td style = \"text-align: left;\"></td><td style = \"text-align: left;\"></td><td style = \"text-align: left;\"></td><td style = \"text-align: left;\">,,0:27</td></tr><tr><td class = \"rowNumber\" style = \"font-weight: bold; text-align: right;\">7</td><td style = \"text-align: left;\">Stage 6a</td><td style = \"text-align: left;\">56</td><td style = \"text-align: left;\"></td><td style = \"text-align: left;\"></td><td style = \"text-align: left;\">26</td><td style = \"text-align: left;\"></td><td style = \"text-align: left;\">Sprint</td><td style = \"text-align: left;\">MOLLET AndréPeugeot - BP - Michelin</td><td style = \"text-align: left;\">24</td><td style = \"text-align: left;\">Peugeot - BP - Michelin</td><td style = \"text-align: left;\"></td><td style = \"text-align: left;\"></td><td style = \"text-align: left;\"></td><td style = \"text-align: left;\">,,0:27</td></tr><tr><td class = \"rowNumber\" style = \"font-weight: bold; text-align: right;\">8</td><td style = \"text-align: left;\">Stage 6a</td><td style = \"text-align: left;\">57</td><td style = \"text-align: left;\"></td><td style = \"text-align: left;\"></td><td style = \"text-align: left;\">85</td><td style = \"text-align: left;\"></td><td style = \"text-align: left;\">GC</td><td style = \"text-align: left;\">MILLARD JoëlMerlin Plage - Shimano - Flandria</td><td style = \"text-align: left;\">28</td><td style = \"text-align: left;\">Merlin Plage - Shimano - Flandria</td><td style = \"text-align: left;\"></td><td style = \"text-align: left;\"></td><td style = \"text-align: left;\"></td><td style = \"text-align: left;\">,,0:27</td></tr><tr><td class = \"rowNumber\" style = \"font-weight: bold; text-align: right;\">9</td><td style = \"text-align: left;\">Stage 6a</td><td style = \"text-align: left;\">58</td><td style = \"text-align: left;\"></td><td style = \"text-align: left;\"></td><td style = \"text-align: left;\">32</td><td style = \"text-align: left;\"></td><td style = \"text-align: left;\">GC</td><td style = \"text-align: left;\">AJA GonzaloKas - Kaskol</td><td style = \"text-align: left;\">27</td><td style = \"text-align: left;\">Kas - Kaskol</td><td style = \"text-align: left;\"></td><td style = \"text-align: left;\"></td><td style = \"text-align: left;\"></td><td style = \"text-align: left;\">,,0:27</td></tr><tr><td class = \"rowNumber\" style = \"font-weight: bold; text-align: right;\">10</td><td style = \"text-align: left;\">Stage 6a</td><td style = \"text-align: left;\">59</td><td style = \"text-align: left;\"></td><td style = \"text-align: left;\"></td><td style = \"text-align: left;\">3</td><td style = \"text-align: left;\"></td><td style = \"text-align: left;\">Classic</td><td style = \"text-align: left;\">DELCROIX LudoMolteni</td><td style = \"text-align: left;\">23</td><td style = \"text-align: left;\">Molteni</td><td style = \"text-align: left;\"></td><td style = \"text-align: left;\"></td><td style = \"text-align: left;\"></td><td style = \"text-align: left;\">,,0:27</td></tr><tr><td class = \"rowNumber\" style = \"font-weight: bold; text-align: right;\">11</td><td style = \"text-align: left;\">Stage 6a</td><td style = \"text-align: left;\">60</td><td style = \"text-align: left;\"></td><td style = \"text-align: left;\"></td><td style = \"text-align: left;\">102</td><td style = \"text-align: left;\"></td><td style = \"text-align: left;\">GC</td><td style = \"text-align: left;\">BLAIN ChristianJobo - Lejeune</td><td style = \"text-align: left;\">25</td><td style = \"text-align: left;\">Jobo - Lejeune</td><td style = \"text-align: left;\"></td><td style = \"text-align: left;\"></td><td style = \"text-align: left;\"></td><td style = \"text-align: left;\">,,0:27</td></tr><tr><td class = \"rowNumber\" style = \"font-weight: bold; text-align: right;\">12</td><td style = \"text-align: left;\">Stage 6a</td><td style = \"text-align: left;\">61</td><td style = \"text-align: left;\"></td><td style = \"text-align: left;\"></td><td style = \"text-align: left;\">10</td><td style = \"text-align: left;\"></td><td style = \"text-align: left;\">Classic</td><td style = \"text-align: left;\">VAN SCHIL VictorMolteni</td><td style = \"text-align: left;\">34</td><td style = \"text-align: left;\">Molteni</td><td style = \"text-align: left;\"></td><td style = \"text-align: left;\"></td><td style = \"text-align: left;\"></td><td style = \"text-align: left;\">,,0:27</td></tr><tr><td class = \"rowNumber\" style = \"font-weight: bold; text-align: right;\">13</td><td style = \"text-align: left;\">Stage 6a</td><td style = \"text-align: left;\">62</td><td style = \"text-align: left;\"></td><td style = \"text-align: left;\"></td><td style = \"text-align: left;\">106</td><td style = \"text-align: left;\"></td><td style = \"text-align: left;\">Sprint</td><td style = \"text-align: left;\">DUCREUX DanielJobo - Lejeune</td><td style = \"text-align: left;\">27</td><td style = \"text-align: left;\">Jobo - Lejeune</td><td style = \"text-align: left;\"></td><td style = \"text-align: left;\"></td><td style = \"text-align: left;\"></td><td style = \"text-align: left;\">,,0:27</td></tr><tr><td class = \"rowNumber\" style = \"font-weight: bold; text-align: right;\">14</td><td style = \"text-align: left;\">Stage 6a</td><td style = \"text-align: left;\">63</td><td style = \"text-align: left;\"></td><td style = \"text-align: left;\"></td><td style = \"text-align: left;\">55</td><td style = \"text-align: left;\"></td><td style = \"text-align: left;\">Classic</td><td style = \"text-align: left;\">PINTENS GeorgesM.I.C. - De Gribaldy - Ludo</td><td style = \"text-align: left;\">27</td><td style = \"text-align: left;\">M.I.C. - De Gribaldy - Ludo</td><td style = \"text-align: left;\"></td><td style = \"text-align: left;\"></td><td style = \"text-align: left;\"></td><td style = \"text-align: left;\">,,0:27</td></tr><tr><td class = \"rowNumber\" style = \"font-weight: bold; text-align: right;\">15</td><td style = \"text-align: left;\">Stage 6a</td><td style = \"text-align: left;\">64</td><td style = \"text-align: left;\"></td><td style = \"text-align: left;\"></td><td style = \"text-align: left;\">8</td><td style = \"text-align: left;\"></td><td style = \"text-align: left;\">Sprint</td><td style = \"text-align: left;\">MINTJENS FransMolteni</td><td style = \"text-align: left;\">27</td><td style = \"text-align: left;\">Molteni</td><td style = \"text-align: left;\"></td><td style = \"text-align: left;\"></td><td style = \"text-align: left;\"></td><td style = \"text-align: left;\">,,0:27</td></tr><tr><td class = \"rowNumber\" style = \"font-weight: bold; text-align: right;\">16</td><td style = \"text-align: left;\">Stage 6a</td><td style = \"text-align: left;\">65</td><td style = \"text-align: left;\"></td><td style = \"text-align: left;\"></td><td style = \"text-align: left;\">91</td><td style = \"text-align: left;\"></td><td style = \"text-align: left;\">Classic</td><td style = \"text-align: left;\">PANIZZA WladimiroBrooklyn</td><td style = \"text-align: left;\">29</td><td style = \"text-align: left;\">Brooklyn</td><td style = \"text-align: left;\"></td><td style = \"text-align: left;\"></td><td style = \"text-align: left;\"></td><td style = \"text-align: left;\">,,0:27</td></tr><tr><td class = \"rowNumber\" style = \"font-weight: bold; text-align: right;\">17</td><td style = \"text-align: left;\">Stage 6a</td><td style = \"text-align: left;\">66</td><td style = \"text-align: left;\"></td><td style = \"text-align: left;\"></td><td style = \"text-align: left;\">66</td><td style = \"text-align: left;\"></td><td style = \"text-align: left;\">Sprint</td><td style = \"text-align: left;\">MOURIOUX JacquesGan - Mercier</td><td style = \"text-align: left;\">26</td><td style = \"text-align: left;\">Gan - Mercier</td><td style = \"text-align: left;\"></td><td style = \"text-align: left;\"></td><td style = \"text-align: left;\"></td><td style = \"text-align: left;\">,,0:27</td></tr><tr><td class = \"rowNumber\" style = \"font-weight: bold; text-align: right;\">18</td><td style = \"text-align: left;\">Stage 6a</td><td style = \"text-align: left;\">67</td><td style = \"text-align: left;\"></td><td style = \"text-align: left;\"></td><td style = \"text-align: left;\">24</td><td style = \"text-align: left;\"></td><td style = \"text-align: left;\">GC</td><td style = \"text-align: left;\">DELISLE RaymondPeugeot - BP - Michelin</td><td style = \"text-align: left;\">31</td><td style = \"text-align: left;\">Peugeot - BP - Michelin</td><td style = \"text-align: left;\"></td><td style = \"text-align: left;\"></td><td style = \"text-align: left;\"></td><td style = \"text-align: left;\">,,0:27</td></tr><tr><td class = \"rowNumber\" style = \"font-weight: bold; text-align: right;\">19</td><td style = \"text-align: left;\">Stage 6a</td><td style = \"text-align: left;\">68</td><td style = \"text-align: left;\"></td><td style = \"text-align: left;\"></td><td style = \"text-align: left;\">20</td><td style = \"text-align: left;\"></td><td style = \"text-align: left;\">GC</td><td style = \"text-align: left;\">VASSEUR SylvainBic</td><td style = \"text-align: left;\">28</td><td style = \"text-align: left;\">Bic</td><td style = \"text-align: left;\"></td><td style = \"text-align: left;\"></td><td style = \"text-align: left;\"></td><td style = \"text-align: left;\">,,0:27</td></tr><tr><td class = \"rowNumber\" style = \"font-weight: bold; text-align: right;\">20</td><td style = \"text-align: left;\">Stage 6a</td><td style = \"text-align: left;\">69</td><td style = \"text-align: left;\"></td><td style = \"text-align: left;\"></td><td style = \"text-align: left;\">28</td><td style = \"text-align: left;\"></td><td style = \"text-align: left;\">Sprint</td><td style = \"text-align: left;\">RIOTTE RaymondPeugeot - BP - Michelin</td><td style = \"text-align: left;\">34</td><td style = \"text-align: left;\">Peugeot - BP - Michelin</td><td style = \"text-align: left;\"></td><td style = \"text-align: left;\"></td><td style = \"text-align: left;\"></td><td style = \"text-align: left;\">,,0:27</td></tr><tr><td class = \"rowNumber\" style = \"font-weight: bold; text-align: right;\">21</td><td style = \"text-align: left;\">Stage 6a</td><td style = \"text-align: left;\">70</td><td style = \"text-align: left;\"></td><td style = \"text-align: left;\"></td><td style = \"text-align: left;\">22</td><td style = \"text-align: left;\"></td><td style = \"text-align: left;\">Sprint</td><td style = \"text-align: left;\">BOURREAU BernardPeugeot - BP - Michelin</td><td style = \"text-align: left;\">22</td><td style = \"text-align: left;\">Peugeot - BP - Michelin</td><td style = \"text-align: left;\"></td><td style = \"text-align: left;\"></td><td style = \"text-align: left;\"></td><td style = \"text-align: left;\">,,0:27</td></tr></tbody></table></div>"
      ],
      "text/latex": [
       "\\begin{tabular}{r|ccccccccc}\n",
       "\t& Stage & Rnk & GC & Timelag & BIB & H2H & Specialty & Rider & \\\\\n",
       "\t\\hline\n",
       "\t& String & String & String & String & String & String & String & String & \\\\\n",
       "\t\\hline\n",
       "\t1 & Stage 6a & 50 &  &  & 101 &  & GC & PINGEON RogerJobo - Lejeune & $\\dots$ \\\\\n",
       "\t2 & Stage 6a & 51 & 12 & +1:02 & 11 &  & TT & AGOSTINHO JoaquimBic & $\\dots$ \\\\\n",
       "\t3 & Stage 6a & 52 & 10 & +0:55 & 71 &  & TT & MANZANEQUE JesúsLa Casera - Bahamontes & $\\dots$ \\\\\n",
       "\t4 & Stage 6a & 53 &  &  & 49 &  & Sprint & VAN NESTE WillySonolor - Gitane & $\\dots$ \\\\\n",
       "\t5 & Stage 6a & 54 &  &  & 9 &  & Sprint & SPRUYT JosMolteni & $\\dots$ \\\\\n",
       "\t6 & Stage 6a & 55 &  &  & 21 &  & GC & THÉVENET BernardPeugeot - BP - Michelin & $\\dots$ \\\\\n",
       "\t7 & Stage 6a & 56 &  &  & 26 &  & Sprint & MOLLET AndréPeugeot - BP - Michelin & $\\dots$ \\\\\n",
       "\t8 & Stage 6a & 57 &  &  & 85 &  & GC & MILLARD JoëlMerlin Plage - Shimano - Flandria & $\\dots$ \\\\\n",
       "\t9 & Stage 6a & 58 &  &  & 32 &  & GC & AJA GonzaloKas - Kaskol & $\\dots$ \\\\\n",
       "\t10 & Stage 6a & 59 &  &  & 3 &  & Classic & DELCROIX LudoMolteni & $\\dots$ \\\\\n",
       "\t11 & Stage 6a & 60 &  &  & 102 &  & GC & BLAIN ChristianJobo - Lejeune & $\\dots$ \\\\\n",
       "\t12 & Stage 6a & 61 &  &  & 10 &  & Classic & VAN SCHIL VictorMolteni & $\\dots$ \\\\\n",
       "\t13 & Stage 6a & 62 &  &  & 106 &  & Sprint & DUCREUX DanielJobo - Lejeune & $\\dots$ \\\\\n",
       "\t14 & Stage 6a & 63 &  &  & 55 &  & Classic & PINTENS GeorgesM.I.C. - De Gribaldy - Ludo & $\\dots$ \\\\\n",
       "\t15 & Stage 6a & 64 &  &  & 8 &  & Sprint & MINTJENS FransMolteni & $\\dots$ \\\\\n",
       "\t16 & Stage 6a & 65 &  &  & 91 &  & Classic & PANIZZA WladimiroBrooklyn & $\\dots$ \\\\\n",
       "\t17 & Stage 6a & 66 &  &  & 66 &  & Sprint & MOURIOUX JacquesGan - Mercier & $\\dots$ \\\\\n",
       "\t18 & Stage 6a & 67 &  &  & 24 &  & GC & DELISLE RaymondPeugeot - BP - Michelin & $\\dots$ \\\\\n",
       "\t19 & Stage 6a & 68 &  &  & 20 &  & GC & VASSEUR SylvainBic & $\\dots$ \\\\\n",
       "\t20 & Stage 6a & 69 &  &  & 28 &  & Sprint & RIOTTE RaymondPeugeot - BP - Michelin & $\\dots$ \\\\\n",
       "\t21 & Stage 6a & 70 &  &  & 22 &  & Sprint & BOURREAU BernardPeugeot - BP - Michelin & $\\dots$ \\\\\n",
       "\\end{tabular}\n"
      ],
      "text/plain": [
       "\u001b[1m21×14 DataFrame\u001b[0m\n",
       "\u001b[1m Row \u001b[0m│\u001b[1m Stage    \u001b[0m\u001b[1m Rnk    \u001b[0m\u001b[1m GC     \u001b[0m\u001b[1m Timelag \u001b[0m\u001b[1m BIB    \u001b[0m\u001b[1m H2H    \u001b[0m\u001b[1m Specialty \u001b[0m\u001b[1m Rider    \u001b[0m ⋯\n",
       "     │\u001b[90m String   \u001b[0m\u001b[90m String \u001b[0m\u001b[90m String \u001b[0m\u001b[90m String  \u001b[0m\u001b[90m String \u001b[0m\u001b[90m String \u001b[0m\u001b[90m String    \u001b[0m\u001b[90m String   \u001b[0m ⋯\n",
       "─────┼──────────────────────────────────────────────────────────────────────────\n",
       "   1 │ Stage 6a  50                       101             GC         PINGEON R ⋯\n",
       "   2 │ Stage 6a  51      12      +1:02    11              TT         AGOSTINHO\n",
       "   3 │ Stage 6a  52      10      +0:55    71              TT         MANZANEQU\n",
       "   4 │ Stage 6a  53                       49              Sprint     VAN NESTE\n",
       "   5 │ Stage 6a  54                       9               Sprint     SPRUYT Jo ⋯\n",
       "   6 │ Stage 6a  55                       21              GC         THÉVENET\n",
       "   7 │ Stage 6a  56                       26              Sprint     MOLLET An\n",
       "   8 │ Stage 6a  57                       85              GC         MILLARD J\n",
       "  ⋮  │    ⋮        ⋮       ⋮        ⋮       ⋮       ⋮         ⋮                ⋱\n",
       "  15 │ Stage 6a  64                       8               Sprint     MINTJENS  ⋯\n",
       "  16 │ Stage 6a  65                       91              Classic    PANIZZA W\n",
       "  17 │ Stage 6a  66                       66              Sprint     MOURIOUX\n",
       "  18 │ Stage 6a  67                       24              GC         DELISLE R\n",
       "  19 │ Stage 6a  68                       20              GC         VASSEUR S ⋯\n",
       "  20 │ Stage 6a  69                       28              Sprint     RIOTTE Ra\n",
       "  21 │ Stage 6a  70                       22              Sprint     BOURREAU\n",
       "\u001b[36m                                                    7 columns and 6 rows omitted\u001b[0m"
      ]
     },
     "metadata": {},
     "output_type": "display_data"
    }
   ],
   "source": [
    "test = insertcols!(DataFrame(scrape_tables(\"https://www.procyclingstats.com/race/tour-de-france/1974/stage-6a\")[1]),1,:Stage => string(\"Stage 6a\"))\n",
    "test[50:70,:]"
   ]
  },
  {
   "attachments": {},
   "cell_type": "markdown",
   "metadata": {},
   "source": [
    "## What to scrape?\n",
    "\n",
    "Thinking about what would be most useful for delving into the data here, I thought that both getting information on each rider's progression throughout each stage of the race would be a start, but also extracting information on which teams and the team make-up for each year would also be intriguing.\n",
    "\n",
    "Extracting (some of) the stage information is relatively simple thanks to the [TableScraper](https://github.com/xiaodaigh/TableScraper.jl) package. There are some issues there, which I'll get to later. However, the team information is unfortunately not so easy. While the majority of listed data is typically shown in table divisions, for data post-1929 is given as lists instead. So, we'll write something to circumvent this and put the data together in a readable format. In Julia, the one I have the most experience and familiarity with are `DataFrames.jl`, so that's what I'll use."
   ]
  },
  {
   "cell_type": "code",
   "execution_count": 26,
   "metadata": {},
   "outputs": [
    {
     "data": {
      "text/plain": [
       "14"
      ]
     },
     "metadata": {},
     "output_type": "display_data"
    }
   ],
   "source": [
    "url=\"https://www.procyclingstats.com/race/tour-de-france/1950/startlist/\"\n",
    "r = HTTP.get(url)\n",
    "r_parsed = parsehtml(String(r.body))\n",
    "list_elems = eachmatch(sel\".startlist_v4\", r_parsed.root)\n",
    "# eachmatch(sel\"tr th\", tables_elems[1])\n",
    "\n",
    "length(list_elems[1].children)"
   ]
  },
  {
   "cell_type": "code",
   "execution_count": 9,
   "metadata": {},
   "outputs": [
    {
     "data": {
      "text/plain": [
       "true"
      ]
     },
     "metadata": {},
     "output_type": "display_data"
    }
   ],
   "source": [
    "# info to extract: rider name; rider team; rider nationality; rider age; rider height (if available); rider weight (if available)\n",
    "# arg given: year\n",
    "\n",
    "yr = 1929\n",
    "\n",
    "# step 1: build url\n",
    "url = \"https://www.procyclingstats.com/race/tour-de-france/\" * string(yr) * \"/startlist/\"\n",
    "r = HTTP.get(url) # scrape data\n",
    "r_parsed = parsehtml(String(r.body)) # parse to string\n",
    "# determine if full list available\n",
    "if Gumbo.children.(eachmatch(sel\"h3\", r_parsed.root))[1][1].text == \"Individual participants\"\n"
   ]
  },
  {
   "cell_type": "code",
   "execution_count": 157,
   "metadata": {},
   "outputs": [
    {
     "data": {
      "text/plain": [
       "\"it\""
      ]
     },
     "metadata": {},
     "output_type": "display_data"
    }
   ],
   "source": [
    "table = eachmatch(sel\"table\", r_parsed.root)[1]\n",
    "\n",
    "test = eachmatch(sel\"tbody tr\", table)\n",
    "# tst = eachmatch(sel\"th\", test[1])\n",
    "# occursin.(\"team\",nodeText.(tst))\n",
    "\n",
    "name = nodeText(eachmatch(sel\"td\",test[1])[3])\n",
    "team = nodeText((eachmatch(sel\"td\",test[1]))[4])\n",
    "nat = getattr(eachmatch(sel\"td\",test[1])[3].children[1],\"class\")[end-1:end]\n",
    "\n",
    "# getattr(eachmatch(sel\"td\",test[1])[3],\"class\")\n"
   ]
  },
  {
   "cell_type": "code",
   "execution_count": 10,
   "metadata": {},
   "outputs": [
    {
     "data": {
      "text/plain": [
       "fullListDetails (generic function with 1 method)"
      ]
     },
     "metadata": {},
     "output_type": "display_data"
    }
   ],
   "source": [
    "function fullListDetails(row)\n",
    "    name = nodeText(eachmatch(sel\"td\",row)[3])\n",
    "    name = match(r\"\\b[\\p{Lu}]([\\p{Ll}]+)*\\b\", name).match * \" \" * match(r\"\\b[\\p{Lu}]+(?:\\s+[\\p{Lu}]+)*\\b\", name).match # reformat name\n",
    "    team = nodeText((eachmatch(sel\"td\",row))[4])\n",
    "    nat = getattr(eachmatch(sel\"td\",row)[3].children[1],\"class\")[end-1:end]\n",
    "    return name, team, nat\n",
    "end"
   ]
  },
  {
   "cell_type": "code",
   "execution_count": 235,
   "metadata": {},
   "outputs": [
    {
     "data": {
      "text/html": [
       "<div><div style = \"float: left;\"><span>29×4 DataFrame</span></div><div style = \"float: right;\"><span style = \"font-style: italic;\">4 rows omitted</span></div><div style = \"clear: both;\"></div></div><div class = \"data-frame\" style = \"overflow-x: scroll;\"><table class = \"data-frame\" style = \"margin-bottom: 6px;\"><thead><tr class = \"header\"><th class = \"rowNumber\" style = \"font-weight: bold; text-align: right;\">Row</th><th style = \"text-align: left;\">Date</th><th style = \"text-align: left;\"></th><th style = \"text-align: left;\">Stage</th><th style = \"text-align: left;\">Winner</th></tr><tr class = \"subheader headerLastRow\"><th class = \"rowNumber\" style = \"font-weight: bold; text-align: right;\"></th><th title = \"String\" style = \"text-align: left;\">String</th><th title = \"String\" style = \"text-align: left;\">String</th><th title = \"String\" style = \"text-align: left;\">String</th><th title = \"String\" style = \"text-align: left;\">String</th></tr></thead><tbody><tr><td class = \"rowNumber\" style = \"font-weight: bold; text-align: right;\">1</td><td style = \"text-align: left;\">30/06</td><td style = \"text-align: left;\"></td><td style = \"text-align: left;\">Stage 1 | Paris - Caen (206 km)</td><td style = \"text-align: left;\">DOSSCHE Aimé</td></tr><tr><td class = \"rowNumber\" style = \"font-weight: bold; text-align: right;\">2</td><td style = \"text-align: left;\">01/07</td><td style = \"text-align: left;\"></td><td style = \"text-align: left;\">Stage 2 | Caen - Cherbourg (140 km)</td><td style = \"text-align: left;\">LEDUCQ André</td></tr><tr><td class = \"rowNumber\" style = \"font-weight: bold; text-align: right;\">3</td><td style = \"text-align: left;\">02/07</td><td style = \"text-align: left;\"></td><td style = \"text-align: left;\">Stage 3 | Cherbourg - Dinan (199 km)</td><td style = \"text-align: left;\">TAVERNE Omer</td></tr><tr><td class = \"rowNumber\" style = \"font-weight: bold; text-align: right;\">4</td><td style = \"text-align: left;\">03/07</td><td style = \"text-align: left;\"></td><td style = \"text-align: left;\">Stage 4 | Dinan - Brest (206 km)</td><td style = \"text-align: left;\">DELANNOY Louis</td></tr><tr><td class = \"rowNumber\" style = \"font-weight: bold; text-align: right;\">5</td><td style = \"text-align: left;\">04/07</td><td style = \"text-align: left;\"></td><td style = \"text-align: left;\">Stage 5 | Brest - Vannes (208 km)</td><td style = \"text-align: left;\">VAN SLEMBROUCK Gustave</td></tr><tr><td class = \"rowNumber\" style = \"font-weight: bold; text-align: right;\">6</td><td style = \"text-align: left;\">05/07</td><td style = \"text-align: left;\"></td><td style = \"text-align: left;\">Stage 6 | Vannes - Les Sables d&apos;Olonne (206 km)</td><td style = \"text-align: left;\">LE DROGO Paul</td></tr><tr><td class = \"rowNumber\" style = \"font-weight: bold; text-align: right;\">7</td><td style = \"text-align: left;\">06/07</td><td style = \"text-align: left;\"></td><td style = \"text-align: left;\">Stage 7 | Les Sables d&apos;Olonne - Bordeaux (285 km)</td><td style = \"text-align: left;\">FRANTZ Nicolas</td></tr><tr><td class = \"rowNumber\" style = \"font-weight: bold; text-align: right;\">8</td><td style = \"text-align: left;\">07/07</td><td style = \"text-align: left;\"></td><td style = \"text-align: left;\">Stage 8 | Bordeaux - Bayonne (182 km)</td><td style = \"text-align: left;\">MOINEAU Julien</td></tr><tr><td class = \"rowNumber\" style = \"font-weight: bold; text-align: right;\">9</td><td style = \"text-align: left;\">08/07</td><td style = \"text-align: left;\"></td><td style = \"text-align: left;\">Restday</td><td style = \"text-align: left;\"></td></tr><tr><td class = \"rowNumber\" style = \"font-weight: bold; text-align: right;\">10</td><td style = \"text-align: left;\">09/07</td><td style = \"text-align: left;\"></td><td style = \"text-align: left;\">Stage 9 | Bayonne - Luchon (363 km)</td><td style = \"text-align: left;\">CARDONA Salvador</td></tr><tr><td class = \"rowNumber\" style = \"font-weight: bold; text-align: right;\">11</td><td style = \"text-align: left;\">10/07</td><td style = \"text-align: left;\"></td><td style = \"text-align: left;\">Restday</td><td style = \"text-align: left;\"></td></tr><tr><td class = \"rowNumber\" style = \"font-weight: bold; text-align: right;\">12</td><td style = \"text-align: left;\">11/07</td><td style = \"text-align: left;\"></td><td style = \"text-align: left;\">Stage 10 | Luchon - Perpignan (323 km)</td><td style = \"text-align: left;\">DEMUYSERE Joseph</td></tr><tr><td class = \"rowNumber\" style = \"font-weight: bold; text-align: right;\">13</td><td style = \"text-align: left;\">12/07</td><td style = \"text-align: left;\"></td><td style = \"text-align: left;\">Restday</td><td style = \"text-align: left;\"></td></tr><tr><td style = \"text-align: right;\">&vellip;</td><td style = \"text-align: right;\">&vellip;</td><td style = \"text-align: right;\">&vellip;</td><td style = \"text-align: right;\">&vellip;</td><td style = \"text-align: right;\">&vellip;</td></tr><tr><td class = \"rowNumber\" style = \"font-weight: bold; text-align: right;\">18</td><td style = \"text-align: left;\">17/07</td><td style = \"text-align: left;\"></td><td style = \"text-align: left;\">Restday</td><td style = \"text-align: left;\"></td></tr><tr><td class = \"rowNumber\" style = \"font-weight: bold; text-align: right;\">19</td><td style = \"text-align: left;\">18/07</td><td style = \"text-align: left;\"></td><td style = \"text-align: left;\">Stage 14 | Nice - Grenoble (333 km)</td><td style = \"text-align: left;\">REBRY Gaston</td></tr><tr><td class = \"rowNumber\" style = \"font-weight: bold; text-align: right;\">20</td><td style = \"text-align: left;\">19/07</td><td style = \"text-align: left;\"></td><td style = \"text-align: left;\">Restday</td><td style = \"text-align: left;\"></td></tr><tr><td class = \"rowNumber\" style = \"font-weight: bold; text-align: right;\">21</td><td style = \"text-align: left;\">20/07</td><td style = \"text-align: left;\"></td><td style = \"text-align: left;\">Stage 15 | Grenoble - Evian (329 km)</td><td style = \"text-align: left;\">VERVAECKE Julien</td></tr><tr><td class = \"rowNumber\" style = \"font-weight: bold; text-align: right;\">22</td><td style = \"text-align: left;\">21/07</td><td style = \"text-align: left;\"></td><td style = \"text-align: left;\">Restday</td><td style = \"text-align: left;\"></td></tr><tr><td class = \"rowNumber\" style = \"font-weight: bold; text-align: right;\">23</td><td style = \"text-align: left;\">22/07</td><td style = \"text-align: left;\"></td><td style = \"text-align: left;\">Stage 16 | Evian - Belfort (283 km)</td><td style = \"text-align: left;\">PÉLISSIER Charles</td></tr><tr><td class = \"rowNumber\" style = \"font-weight: bold; text-align: right;\">24</td><td style = \"text-align: left;\">23/07</td><td style = \"text-align: left;\"></td><td style = \"text-align: left;\">Stage 17 | Belfort - Strasbourg (145 km)</td><td style = \"text-align: left;\">LEDUCQ André</td></tr><tr><td class = \"rowNumber\" style = \"font-weight: bold; text-align: right;\">25</td><td style = \"text-align: left;\">24/07</td><td style = \"text-align: left;\"></td><td style = \"text-align: left;\">Stage 18 | Strasbourg - Metz (165 km)</td><td style = \"text-align: left;\">LEDUCQ André</td></tr><tr><td class = \"rowNumber\" style = \"font-weight: bold; text-align: right;\">26</td><td style = \"text-align: left;\">25/07</td><td style = \"text-align: left;\"></td><td style = \"text-align: left;\">Stage 19 | Metz - Charleville (159 km)</td><td style = \"text-align: left;\">VAN RYSSELBERGHE Bernard</td></tr><tr><td class = \"rowNumber\" style = \"font-weight: bold; text-align: right;\">27</td><td style = \"text-align: left;\">26/07</td><td style = \"text-align: left;\"></td><td style = \"text-align: left;\">Stage 20 | Charleville - Malo-les-Bains (270 km)</td><td style = \"text-align: left;\">DEWAELE Maurice</td></tr><tr><td class = \"rowNumber\" style = \"font-weight: bold; text-align: right;\">28</td><td style = \"text-align: left;\">27/07</td><td style = \"text-align: left;\"></td><td style = \"text-align: left;\">Stage 21 | Malo-les-Bains - Dieppe (234 km)</td><td style = \"text-align: left;\">LEDUCQ André</td></tr><tr><td class = \"rowNumber\" style = \"font-weight: bold; text-align: right;\">29</td><td style = \"text-align: left;\">28/07</td><td style = \"text-align: left;\"></td><td style = \"text-align: left;\">Stage 22 | Dieppe - Paris (332 km)</td><td style = \"text-align: left;\">FRANTZ Nicolas</td></tr></tbody></table></div>"
      ],
      "text/latex": [
       "\\begin{tabular}{r|cccc}\n",
       "\t& Date &  & Stage & Winner\\\\\n",
       "\t\\hline\n",
       "\t& String & String & String & String\\\\\n",
       "\t\\hline\n",
       "\t1 & 30/06 &  & Stage 1 | Paris - Caen (206 km) & DOSSCHE Aimé \\\\\n",
       "\t2 & 01/07 &  & Stage 2 | Caen - Cherbourg (140 km) & LEDUCQ André \\\\\n",
       "\t3 & 02/07 &  & Stage 3 | Cherbourg - Dinan (199 km) & TAVERNE Omer \\\\\n",
       "\t4 & 03/07 &  & Stage 4 | Dinan - Brest (206 km) & DELANNOY Louis \\\\\n",
       "\t5 & 04/07 &  & Stage 5 | Brest - Vannes (208 km) & VAN SLEMBROUCK Gustave \\\\\n",
       "\t6 & 05/07 &  & Stage 6 | Vannes - Les Sables d'Olonne (206 km) & LE DROGO Paul \\\\\n",
       "\t7 & 06/07 &  & Stage 7 | Les Sables d'Olonne - Bordeaux (285 km) & FRANTZ Nicolas \\\\\n",
       "\t8 & 07/07 &  & Stage 8 | Bordeaux - Bayonne (182 km) & MOINEAU Julien \\\\\n",
       "\t9 & 08/07 &  & Restday &  \\\\\n",
       "\t10 & 09/07 &  & Stage 9 | Bayonne - Luchon (363 km) & CARDONA Salvador \\\\\n",
       "\t11 & 10/07 &  & Restday &  \\\\\n",
       "\t12 & 11/07 &  & Stage 10 | Luchon - Perpignan (323 km) & DEMUYSERE Joseph \\\\\n",
       "\t13 & 12/07 &  & Restday &  \\\\\n",
       "\t14 & 13/07 &  & Stage 11 | Perpignan - Marseille (366 km) & LEDUCQ André \\\\\n",
       "\t15 & 14/07 &  & Restday &  \\\\\n",
       "\t16 & 15/07 &  & Stage 12 | Marseille - Cannes (191 km) & BIDOT Marcel \\\\\n",
       "\t17 & 16/07 &  & Stage 13 | Cannes - Nice (133 km) & FAURE Benoît \\\\\n",
       "\t18 & 17/07 &  & Restday &  \\\\\n",
       "\t19 & 18/07 &  & Stage 14 | Nice - Grenoble (333 km) & REBRY Gaston \\\\\n",
       "\t20 & 19/07 &  & Restday &  \\\\\n",
       "\t21 & 20/07 &  & Stage 15 | Grenoble - Evian (329 km) & VERVAECKE Julien \\\\\n",
       "\t22 & 21/07 &  & Restday &  \\\\\n",
       "\t23 & 22/07 &  & Stage 16 | Evian - Belfort (283 km) & PÉLISSIER Charles \\\\\n",
       "\t24 & 23/07 &  & Stage 17 | Belfort - Strasbourg (145 km) & LEDUCQ André \\\\\n",
       "\t$\\dots$ & $\\dots$ & $\\dots$ & $\\dots$ & $\\dots$ \\\\\n",
       "\\end{tabular}\n"
      ],
      "text/plain": [
       "\u001b[1m29×4 DataFrame\u001b[0m\n",
       "\u001b[1m Row \u001b[0m│\u001b[1m Date   \u001b[0m\u001b[1m        \u001b[0m\u001b[1m Stage                             \u001b[0m\u001b[1m Winner              \u001b[0m ⋯\n",
       "     │\u001b[90m String \u001b[0m\u001b[90m String \u001b[0m\u001b[90m String                            \u001b[0m\u001b[90m String              \u001b[0m ⋯\n",
       "─────┼──────────────────────────────────────────────────────────────────────────\n",
       "   1 │ 30/06           Stage 1 | Paris - Caen (206 km)    DOSSCHE Aimé         ⋯\n",
       "   2 │ 01/07           Stage 2 | Caen - Cherbourg (140 …  LEDUCQ André\n",
       "   3 │ 02/07           Stage 3 | Cherbourg - Dinan (199…  TAVERNE Omer\n",
       "   4 │ 03/07           Stage 4 | Dinan - Brest (206 km)   DELANNOY Louis\n",
       "   5 │ 04/07           Stage 5 | Brest - Vannes (208 km)  VAN SLEMBROUCK Gusta ⋯\n",
       "   6 │ 05/07           Stage 6 | Vannes - Les Sables d'…  LE DROGO Paul\n",
       "   7 │ 06/07           Stage 7 | Les Sables d'Olonne - …  FRANTZ Nicolas\n",
       "   8 │ 07/07           Stage 8 | Bordeaux - Bayonne (18…  MOINEAU Julien\n",
       "  ⋮  │   ⋮       ⋮                     ⋮                             ⋮         ⋱\n",
       "  23 │ 22/07           Stage 16 | Evian - Belfort (283 …  PÉLISSIER Charles    ⋯\n",
       "  24 │ 23/07           Stage 17 | Belfort - Strasbourg …  LEDUCQ André\n",
       "  25 │ 24/07           Stage 18 | Strasbourg - Metz (16…  LEDUCQ André\n",
       "  26 │ 25/07           Stage 19 | Metz - Charleville (1…  VAN RYSSELBERGHE Ber\n",
       "  27 │ 26/07           Stage 20 | Charleville - Malo-le…  DEWAELE Maurice      ⋯\n",
       "  28 │ 27/07           Stage 21 | Malo-les-Bains - Diep…  LEDUCQ André\n",
       "  29 │ 28/07           Stage 22 | Dieppe - Paris (332 k…  FRANTZ Nicolas\n",
       "\u001b[36m                                                    1 column and 14 rows omitted\u001b[0m"
      ]
     },
     "metadata": {},
     "output_type": "display_data"
    }
   ],
   "source": [
    "scrape_tables(\"https://www.procyclingstats.com/race/tour-de-france/1929\")[2] |> DataFrame"
   ]
  },
  {
   "cell_type": "code",
   "execution_count": 190,
   "metadata": {},
   "outputs": [
    {
     "data": {
      "text/plain": [
       "(\"Camille VAN DE CASTEELE\", \"J.B. Louvet\", \"be\")"
      ]
     },
     "metadata": {},
     "output_type": "display_data"
    }
   ],
   "source": [
    "names = fullListDetails.(test)\n",
    "names[16]"
   ]
  },
  {
   "cell_type": "code",
   "execution_count": null,
   "metadata": {},
   "outputs": [],
   "source": [
    "function getRiderInfo(name)\n",
    "    # generate url\n",
    "    url = \"https://www.procyclingstats.com/rider/\" * replace(lowercase(name), \" \" => \"-\")\n",
    "    r = HTTP.get(url) # scrape data\n",
    "    r_parsed = parsehtml(String(r.body)) # parse to string\n",
    "    bday = split(join(nodeText.(eachmatch(sel\"div div div div div div\",r_parsed.root)[1].children[3].children[[2,4]]))[2:end],\" (\")[1]"
   ]
  },
  {
   "cell_type": "code",
   "execution_count": 231,
   "metadata": {},
   "outputs": [
    {
     "data": {
      "text/plain": [
       "\"22 June 1979\""
      ]
     },
     "metadata": {},
     "output_type": "display_data"
    }
   ],
   "source": [
    "url = \"https://www.procyclingstats.com/rider/\" * replace(lowercase(\"thomas-voeckler\"), \" \" => \"-\")\n",
    "r = HTTP.get(url) # scrape data\n",
    "r_parsed = parsehtml(String(r.body)) # parse to string\n",
    "split(join(nodeText.(eachmatch(sel\"div div div div div div\",r_parsed.root)[1].children[3].children[[2,4]]))[2:end],\" (\")[1]\n"
   ]
  },
  {
   "cell_type": "code",
   "execution_count": 27,
   "metadata": {},
   "outputs": [
    {
     "ename": "UndefVarError",
     "evalue": "UndefVarError: tst not defined",
     "output_type": "error",
     "traceback": [
      "UndefVarError: tst not defined\n",
      "\n",
      "Stacktrace:\n",
      " [1] top-level scope\n",
      "   @ g:\\Documents\\GitHub\\TdF\\TdF.ipynb:13"
     ]
    }
   ],
   "source": [
    "using Cascadia\n",
    "url=\"https://www.procyclingstats.com/race/tour-de-france/1929/startlist/\"\n",
    "r = HTTP.get(url)\n",
    "r_parsed = parsehtml(String(r.body))\n",
    "table_elems = eachmatch(sel\"table\", r_parsed.root)\n",
    "\n",
    "test = []\n",
    "# for row in eachmatch(sel\"tbody tr\", table_elems[1])\n",
    "#     tst = eachmatch(sel\"td\", row)\n",
    "\n",
    "\n",
    "\n",
    "nodeText(tst[1])\n",
    "tst[3]\n",
    "# getattr(tst[3],\"span\")\n",
    "replace(string(getattr(tst[3].children[1],\"class\")),\"flag \" => \"\")\n",
    "\n",
    "[nodeText(tst[1]),nodeText(tst[2]),replace(string(getattr(tst[3].children[1],\"class\")),\"flag \" => \"\"),nodeText(tst[3].children[2].children[1])]"
   ]
  },
  {
   "cell_type": "code",
   "execution_count": 22,
   "metadata": {},
   "outputs": [
    {
     "data": {
      "text/html": [
       "<div><div style = \"float: left;\"><span>156×4 DataFrame</span></div><div style = \"float: right;\"><span style = \"font-style: italic;\">131 rows omitted</span></div><div style = \"clear: both;\"></div></div><div class = \"data-frame\" style = \"overflow-x: scroll;\"><table class = \"data-frame\" style = \"margin-bottom: 6px;\"><thead><tr class = \"header\"><th class = \"rowNumber\" style = \"font-weight: bold; text-align: right;\">Row</th><th style = \"text-align: left;\">#</th><th style = \"text-align: left;\">BIB</th><th style = \"text-align: left;\">Rider</th><th style = \"text-align: left;\">Contract team</th></tr><tr class = \"subheader headerLastRow\"><th class = \"rowNumber\" style = \"font-weight: bold; text-align: right;\"></th><th title = \"String\" style = \"text-align: left;\">String</th><th title = \"String\" style = \"text-align: left;\">String</th><th title = \"String\" style = \"text-align: left;\">String</th><th title = \"String\" style = \"text-align: left;\">String</th></tr></thead><tbody><tr><td class = \"rowNumber\" style = \"font-weight: bold; text-align: right;\">1</td><td style = \"text-align: left;\">1</td><td style = \"text-align: left;\">-</td><td style = \"text-align: left;\">CRIPPA Alfonso</td><td style = \"text-align: left;\">La Rafale</td></tr><tr><td class = \"rowNumber\" style = \"font-weight: bold; text-align: right;\">2</td><td style = \"text-align: left;\">2</td><td style = \"text-align: left;\">-</td><td style = \"text-align: left;\">INNOCENTI Settimo</td><td style = \"text-align: left;\">La Rafale</td></tr><tr><td class = \"rowNumber\" style = \"font-weight: bold; text-align: right;\">3</td><td style = \"text-align: left;\">3</td><td style = \"text-align: left;\">-</td><td style = \"text-align: left;\">MARA Michele</td><td style = \"text-align: left;\">La Rafale</td></tr><tr><td class = \"rowNumber\" style = \"font-weight: bold; text-align: right;\">4</td><td style = \"text-align: left;\">4</td><td style = \"text-align: left;\">-</td><td style = \"text-align: left;\">ORECCHIA Michele</td><td style = \"text-align: left;\">La Rafale</td></tr><tr><td class = \"rowNumber\" style = \"font-weight: bold; text-align: right;\">5</td><td style = \"text-align: left;\">5</td><td style = \"text-align: left;\">-</td><td style = \"text-align: left;\">PANCERA Giuseppe</td><td style = \"text-align: left;\">La Rafale</td></tr><tr><td class = \"rowNumber\" style = \"font-weight: bold; text-align: right;\">6</td><td style = \"text-align: left;\">6</td><td style = \"text-align: left;\">-</td><td style = \"text-align: left;\">POMPOSI Mario</td><td style = \"text-align: left;\">La Rafale</td></tr><tr><td class = \"rowNumber\" style = \"font-weight: bold; text-align: right;\">7</td><td style = \"text-align: left;\">7</td><td style = \"text-align: left;\">-</td><td style = \"text-align: left;\">ROVIDA Carlo</td><td style = \"text-align: left;\">La Rafale</td></tr><tr><td class = \"rowNumber\" style = \"font-weight: bold; text-align: right;\">8</td><td style = \"text-align: left;\">8</td><td style = \"text-align: left;\">-</td><td style = \"text-align: left;\">BIDOT Marcel</td><td style = \"text-align: left;\">La Française - Diamant - Dunlop</td></tr><tr><td class = \"rowNumber\" style = \"font-weight: bold; text-align: right;\">9</td><td style = \"text-align: left;\">9</td><td style = \"text-align: left;\">-</td><td style = \"text-align: left;\">BUYSSE Lucien</td><td style = \"text-align: left;\">J.B. Louvet</td></tr><tr><td class = \"rowNumber\" style = \"font-weight: bold; text-align: right;\">10</td><td style = \"text-align: left;\">10</td><td style = \"text-align: left;\">-</td><td style = \"text-align: left;\">DE CORTE Raymond</td><td style = \"text-align: left;\">J.B. Louvet</td></tr><tr><td class = \"rowNumber\" style = \"font-weight: bold; text-align: right;\">11</td><td style = \"text-align: left;\">11</td><td style = \"text-align: left;\">-</td><td style = \"text-align: left;\">DELBECQUE Julien</td><td style = \"text-align: left;\">J.B. Louvet</td></tr><tr><td class = \"rowNumber\" style = \"font-weight: bold; text-align: right;\">12</td><td style = \"text-align: left;\">12</td><td style = \"text-align: left;\">-</td><td style = \"text-align: left;\">GELDHOF Maurice</td><td style = \"text-align: left;\">J.B. Louvet</td></tr><tr><td class = \"rowNumber\" style = \"font-weight: bold; text-align: right;\">13</td><td style = \"text-align: left;\">13</td><td style = \"text-align: left;\">-</td><td style = \"text-align: left;\">JOLY Émile</td><td style = \"text-align: left;\">J.B. Louvet</td></tr><tr><td style = \"text-align: right;\">&vellip;</td><td style = \"text-align: right;\">&vellip;</td><td style = \"text-align: right;\">&vellip;</td><td style = \"text-align: right;\">&vellip;</td><td style = \"text-align: right;\">&vellip;</td></tr><tr><td class = \"rowNumber\" style = \"font-weight: bold; text-align: right;\">145</td><td style = \"text-align: left;\">145</td><td style = \"text-align: left;\">-</td><td style = \"text-align: left;\">THILGES Jean-Paul</td><td style = \"text-align: left;\"></td></tr><tr><td class = \"rowNumber\" style = \"font-weight: bold; text-align: right;\">146</td><td style = \"text-align: left;\">146</td><td style = \"text-align: left;\">-</td><td style = \"text-align: left;\">THOMAS Henri</td><td style = \"text-align: left;\"></td></tr><tr><td class = \"rowNumber\" style = \"font-weight: bold; text-align: right;\">147</td><td style = \"text-align: left;\">147</td><td style = \"text-align: left;\">-</td><td style = \"text-align: left;\">TOUZARD Henri</td><td style = \"text-align: left;\"></td></tr><tr><td class = \"rowNumber\" style = \"font-weight: bold; text-align: right;\">148</td><td style = \"text-align: left;\">148</td><td style = \"text-align: left;\">-</td><td style = \"text-align: left;\">VAN BRUAENE Armand</td><td style = \"text-align: left;\"></td></tr><tr><td class = \"rowNumber\" style = \"font-weight: bold; text-align: right;\">149</td><td style = \"text-align: left;\">149</td><td style = \"text-align: left;\">-</td><td style = \"text-align: left;\">VAN HASSEL Karel</td><td style = \"text-align: left;\"></td></tr><tr><td class = \"rowNumber\" style = \"font-weight: bold; text-align: right;\">150</td><td style = \"text-align: left;\">150</td><td style = \"text-align: left;\">-</td><td style = \"text-align: left;\">VAN VLASLAER François</td><td style = \"text-align: left;\"></td></tr><tr><td class = \"rowNumber\" style = \"font-weight: bold; text-align: right;\">151</td><td style = \"text-align: left;\">151</td><td style = \"text-align: left;\">-</td><td style = \"text-align: left;\">VENDRUSCOLO Mario</td><td style = \"text-align: left;\"></td></tr><tr><td class = \"rowNumber\" style = \"font-weight: bold; text-align: right;\">152</td><td style = \"text-align: left;\">152</td><td style = \"text-align: left;\">-</td><td style = \"text-align: left;\">VIDON François</td><td style = \"text-align: left;\"></td></tr><tr><td class = \"rowNumber\" style = \"font-weight: bold; text-align: right;\">153</td><td style = \"text-align: left;\">153</td><td style = \"text-align: left;\">-</td><td style = \"text-align: left;\">WERNER Eugen</td><td style = \"text-align: left;\"></td></tr><tr><td class = \"rowNumber\" style = \"font-weight: bold; text-align: right;\">154</td><td style = \"text-align: left;\">154</td><td style = \"text-align: left;\">-</td><td style = \"text-align: left;\">WIBER Bernard</td><td style = \"text-align: left;\"></td></tr><tr><td class = \"rowNumber\" style = \"font-weight: bold; text-align: right;\">155</td><td style = \"text-align: left;\">155</td><td style = \"text-align: left;\">-</td><td style = \"text-align: left;\">ZANINETTI Natale</td><td style = \"text-align: left;\"></td></tr><tr><td class = \"rowNumber\" style = \"font-weight: bold; text-align: right;\">156</td><td style = \"text-align: left;\">156</td><td style = \"text-align: left;\">-</td><td style = \"text-align: left;\">ZENON Jean-Gabriel</td><td style = \"text-align: left;\"></td></tr></tbody></table></div>"
      ],
      "text/latex": [
       "\\begin{tabular}{r|cccc}\n",
       "\t& \\# & BIB & Rider & Contract team\\\\\n",
       "\t\\hline\n",
       "\t& String & String & String & String\\\\\n",
       "\t\\hline\n",
       "\t1 & 1 & - & CRIPPA Alfonso & La Rafale \\\\\n",
       "\t2 & 2 & - & INNOCENTI Settimo & La Rafale \\\\\n",
       "\t3 & 3 & - & MARA Michele & La Rafale \\\\\n",
       "\t4 & 4 & - & ORECCHIA Michele & La Rafale \\\\\n",
       "\t5 & 5 & - & PANCERA Giuseppe & La Rafale \\\\\n",
       "\t6 & 6 & - & POMPOSI Mario & La Rafale \\\\\n",
       "\t7 & 7 & - & ROVIDA Carlo & La Rafale \\\\\n",
       "\t8 & 8 & - & BIDOT Marcel & La Française - Diamant - Dunlop \\\\\n",
       "\t9 & 9 & - & BUYSSE Lucien & J.B. Louvet \\\\\n",
       "\t10 & 10 & - & DE CORTE Raymond & J.B. Louvet \\\\\n",
       "\t11 & 11 & - & DELBECQUE Julien & J.B. Louvet \\\\\n",
       "\t12 & 12 & - & GELDHOF Maurice & J.B. Louvet \\\\\n",
       "\t13 & 13 & - & JOLY Émile & J.B. Louvet \\\\\n",
       "\t14 & 14 & - & MARTIN Hector & J.B. Louvet \\\\\n",
       "\t15 & 15 & - & PÉLISSIER Charles & J.B. Louvet \\\\\n",
       "\t16 & 16 & - & VAN DE CASTEELE Camille & J.B. Louvet \\\\\n",
       "\t17 & 17 & - & BELLENGER Romain & Dilecta - Wolber \\\\\n",
       "\t18 & 18 & - & BONDUEL Frans & Dilecta - Wolber \\\\\n",
       "\t19 & 19 & - & GODINAT André & Dilecta - Wolber \\\\\n",
       "\t20 & 20 & - & LE DROGO Ferdinand & Dilecta - Wolber \\\\\n",
       "\t21 & 21 & - & LE DROGO Paul & Dilecta - Wolber \\\\\n",
       "\t22 & 22 & - & MERVIEL Jules & Dilecta - Wolber \\\\\n",
       "\t23 & 23 & - & VAN RYSSELBERGHE Bernard & Dilecta - Wolber \\\\\n",
       "\t24 & 24 & - & DELANNOY Louis & Alcyon - Dunlop \\\\\n",
       "\t$\\dots$ & $\\dots$ & $\\dots$ & $\\dots$ & $\\dots$ \\\\\n",
       "\\end{tabular}\n"
      ],
      "text/plain": [
       "\u001b[1m156×4 DataFrame\u001b[0m\n",
       "\u001b[1m Row \u001b[0m│\u001b[1m #      \u001b[0m\u001b[1m BIB    \u001b[0m\u001b[1m Rider                 \u001b[0m\u001b[1m Contract team                   \u001b[0m\n",
       "     │\u001b[90m String \u001b[0m\u001b[90m String \u001b[0m\u001b[90m String                \u001b[0m\u001b[90m String                          \u001b[0m\n",
       "─────┼────────────────────────────────────────────────────────────────────────\n",
       "   1 │ 1       -       CRIPPA Alfonso         La Rafale\n",
       "   2 │ 2       -       INNOCENTI Settimo      La Rafale\n",
       "   3 │ 3       -       MARA Michele           La Rafale\n",
       "   4 │ 4       -       ORECCHIA Michele       La Rafale\n",
       "   5 │ 5       -       PANCERA Giuseppe       La Rafale\n",
       "   6 │ 6       -       POMPOSI Mario          La Rafale\n",
       "   7 │ 7       -       ROVIDA Carlo           La Rafale\n",
       "   8 │ 8       -       BIDOT Marcel           La Française - Diamant - Dunlop\n",
       "  ⋮  │   ⋮       ⋮               ⋮                           ⋮\n",
       " 150 │ 150     -       VAN VLASLAER François\n",
       " 151 │ 151     -       VENDRUSCOLO Mario\n",
       " 152 │ 152     -       VIDON François\n",
       " 153 │ 153     -       WERNER Eugen\n",
       " 154 │ 154     -       WIBER Bernard\n",
       " 155 │ 155     -       ZANINETTI Natale\n",
       " 156 │ 156     -       ZENON Jean-Gabriel\n",
       "\u001b[36m                                                              141 rows omitted\u001b[0m"
      ]
     },
     "metadata": {},
     "output_type": "display_data"
    }
   ],
   "source": [
    "url=\"https://www.procyclingstats.com/race/tour-de-france/1929/startlist/\"\n",
    "r = HTTP.get(url)\n",
    "r_parsed = parsehtml(String(r.body))\n",
    "DataFrame(scrape_tables(url)[1])\n"
   ]
  },
  {
   "cell_type": "code",
   "execution_count": 23,
   "metadata": {},
   "outputs": [
    {
     "data": {
      "text/plain": [
       "HTMLElement{:a}:<a href=\"team/alpecin-deceuninck-2023\">\n",
       "  Alpecin-Deceuninck\n",
       "</a>\n",
       "\n"
      ]
     },
     "metadata": {},
     "output_type": "display_data"
    }
   ],
   "source": [
    "\n",
    "# findfirst(contains.([getattr(x,\"href\") for x in eachmatch(sel\"a\", r_parsed.root)],\"team/\"))\n",
    "eachmatch(sel\"a\", r_parsed.root)[25]"
   ]
  },
  {
   "cell_type": "code",
   "execution_count": 24,
   "metadata": {},
   "outputs": [],
   "source": []
  },
  {
   "cell_type": "code",
   "execution_count": 49,
   "metadata": {},
   "outputs": [
    {
     "data": {
      "text/plain": [
       "29-element Vector{SubString{String}}:\n",
       " \"Prologue\"\n",
       " \"Stage 1\"\n",
       " \"Stage 2\"\n",
       " \"Stage 3\"\n",
       " \"Stage 4\"\n",
       " \"Stage 5\"\n",
       " \"Stage 6a\"\n",
       " \"Stage 6b (TTT)\"\n",
       " \"Stage 7\"\n",
       " \"Stage 8a\"\n",
       " ⋮\n",
       " \"Stage 16\"\n",
       " \"Stage 17\"\n",
       " \"Stage 18\"\n",
       " \"Stage 19a\"\n",
       " \"Stage 19b (ITT)\"\n",
       " \"Stage 20\"\n",
       " \"Stage 21a\"\n",
       " \"Stage 21b (ITT)\"\n",
       " \"Stage 22\""
      ]
     },
     "metadata": {},
     "output_type": "display_data"
    }
   ],
   "source": [
    "test =[split(x,\" | \")[1] for x in DataFrame(scrape_tables(\"https://www.procyclingstats.com/race/tour-de-france/\" * string(1974))[2]).Stage]"
   ]
  },
  {
   "cell_type": "code",
   "execution_count": 625,
   "metadata": {},
   "outputs": [
    {
     "data": {
      "text/html": [
       "<div><div style = \"float: left;\"><span>3680×20 DataFrame</span></div><div style = \"float: right;\"><span style = \"font-style: italic;\">3655 rows omitted</span></div><div style = \"clear: both;\"></div></div><div class = \"data-frame\" style = \"overflow-x: scroll;\"><table class = \"data-frame\" style = \"margin-bottom: 6px;\"><thead><tr class = \"header\"><th class = \"rowNumber\" style = \"font-weight: bold; text-align: right;\">Row</th><th style = \"text-align: left;\">Stage</th><th style = \"text-align: left;\">Rnk</th><th style = \"text-align: left;\">GC</th><th style = \"text-align: left;\">Timelag</th><th style = \"text-align: left;\">BIB</th><th style = \"text-align: left;\">H2H</th><th style = \"text-align: left;\">Specialty</th><th style = \"text-align: left;\">Rider</th><th style = \"text-align: left;\">Age</th><th style = \"text-align: left;\">Team</th><th style = \"text-align: left;\">UCI</th><th style = \"text-align: left;\">Pnt</th><th style = \"text-align: left;\"></th><th style = \"text-align: left;\">Time</th><th style = \"text-align: left;\">Avg</th><th style = \"text-align: left;\">Pos.</th><th style = \"text-align: left;\">Timegap</th><th style = \"text-align: left;\">Speed</th><th style = \"text-align: left;\">PCS points</th><th style = \"text-align: left;\">UCI points</th></tr><tr class = \"subheader headerLastRow\"><th class = \"rowNumber\" style = \"font-weight: bold; text-align: right;\"></th><th title = \"String\" style = \"text-align: left;\">String</th><th title = \"Union{Missing, String}\" style = \"text-align: left;\">String?</th><th title = \"Union{Missing, String}\" style = \"text-align: left;\">String?</th><th title = \"Union{Missing, String}\" style = \"text-align: left;\">String?</th><th title = \"Union{Missing, String}\" style = \"text-align: left;\">String?</th><th title = \"Union{Missing, String}\" style = \"text-align: left;\">String?</th><th title = \"Union{Missing, String}\" style = \"text-align: left;\">String?</th><th title = \"Union{Missing, String}\" style = \"text-align: left;\">String?</th><th title = \"Union{Missing, String}\" style = \"text-align: left;\">String?</th><th title = \"String\" style = \"text-align: left;\">String</th><th title = \"Union{Missing, String}\" style = \"text-align: left;\">String?</th><th title = \"Union{Missing, String}\" style = \"text-align: left;\">String?</th><th title = \"Union{Missing, String}\" style = \"text-align: left;\">String?</th><th title = \"String\" style = \"text-align: left;\">String</th><th title = \"Union{Missing, String}\" style = \"text-align: left;\">String?</th><th title = \"Union{Missing, String}\" style = \"text-align: left;\">String?</th><th title = \"Union{Missing, String}\" style = \"text-align: left;\">String?</th><th title = \"Union{Missing, String}\" style = \"text-align: left;\">String?</th><th title = \"Union{Missing, String}\" style = \"text-align: left;\">String?</th><th title = \"Union{Missing, String}\" style = \"text-align: left;\">String?</th></tr></thead><tbody><tr><td class = \"rowNumber\" style = \"font-weight: bold; text-align: right;\">1</td><td style = \"text-align: left;\">Prologue</td><td style = \"text-align: left;\">1</td><td style = \"text-align: left;\">1</td><td style = \"text-align: left;\">+0:00</td><td style = \"text-align: left;\">1</td><td style = \"text-align: left;\"></td><td style = \"text-align: left;\">TT</td><td style = \"text-align: left;\">INDURAIN MiguelBanesto</td><td style = \"text-align: left;\">27</td><td style = \"text-align: left;\">Banesto</td><td style = \"text-align: left;\"></td><td style = \"text-align: left;\">100</td><td style = \"text-align: left;\"></td><td style = \"text-align: left;\">0:09:22</td><td style = \"text-align: left;\">51.246</td><td style = \"font-style: italic; text-align: left;\">missing</td><td style = \"font-style: italic; text-align: left;\">missing</td><td style = \"font-style: italic; text-align: left;\">missing</td><td style = \"font-style: italic; text-align: left;\">missing</td><td style = \"font-style: italic; text-align: left;\">missing</td></tr><tr><td class = \"rowNumber\" style = \"font-weight: bold; text-align: right;\">2</td><td style = \"text-align: left;\">Prologue</td><td style = \"text-align: left;\">2</td><td style = \"text-align: left;\">2</td><td style = \"text-align: left;\">+0:02</td><td style = \"text-align: left;\">89</td><td style = \"text-align: left;\"></td><td style = \"text-align: left;\">TT</td><td style = \"text-align: left;\">ZÜLLE AlexO.N.C.E. - Look - Mavic</td><td style = \"text-align: left;\">23</td><td style = \"text-align: left;\">O.N.C.E. - Look - Mavic</td><td style = \"text-align: left;\"></td><td style = \"text-align: left;\">70</td><td style = \"text-align: left;\"></td><td style = \"text-align: left;\">0:020:02</td><td style = \"text-align: left;\">51.064</td><td style = \"font-style: italic; text-align: left;\">missing</td><td style = \"font-style: italic; text-align: left;\">missing</td><td style = \"font-style: italic; text-align: left;\">missing</td><td style = \"font-style: italic; text-align: left;\">missing</td><td style = \"font-style: italic; text-align: left;\">missing</td></tr><tr><td class = \"rowNumber\" style = \"font-weight: bold; text-align: right;\">3</td><td style = \"text-align: left;\">Prologue</td><td style = \"text-align: left;\">3</td><td style = \"text-align: left;\">3</td><td style = \"text-align: left;\">+0:03</td><td style = \"text-align: left;\">47</td><td style = \"text-align: left;\"></td><td style = \"text-align: left;\">TT</td><td style = \"text-align: left;\">MARIE ThierryCastorama</td><td style = \"text-align: left;\">29</td><td style = \"text-align: left;\">Castorama</td><td style = \"text-align: left;\"></td><td style = \"text-align: left;\">50</td><td style = \"text-align: left;\"></td><td style = \"text-align: left;\">0:030:03</td><td style = \"text-align: left;\">50.973</td><td style = \"font-style: italic; text-align: left;\">missing</td><td style = \"font-style: italic; text-align: left;\">missing</td><td style = \"font-style: italic; text-align: left;\">missing</td><td style = \"font-style: italic; text-align: left;\">missing</td><td style = \"font-style: italic; text-align: left;\">missing</td></tr><tr><td class = \"rowNumber\" style = \"font-weight: bold; text-align: right;\">4</td><td style = \"text-align: left;\">Prologue</td><td style = \"text-align: left;\">4</td><td style = \"text-align: left;\">4</td><td style = \"text-align: left;\">+0:04</td><td style = \"text-align: left;\">136</td><td style = \"text-align: left;\"></td><td style = \"text-align: left;\">TT</td><td style = \"text-align: left;\">NIJDAM JelleBuckler - Colnago - Decca</td><td style = \"text-align: left;\">28</td><td style = \"text-align: left;\">Buckler - Colnago - Decca</td><td style = \"text-align: left;\"></td><td style = \"text-align: left;\">40</td><td style = \"text-align: left;\"></td><td style = \"text-align: left;\">0:040:04</td><td style = \"text-align: left;\">50.883</td><td style = \"font-style: italic; text-align: left;\">missing</td><td style = \"font-style: italic; text-align: left;\">missing</td><td style = \"font-style: italic; text-align: left;\">missing</td><td style = \"font-style: italic; text-align: left;\">missing</td><td style = \"font-style: italic; text-align: left;\">missing</td></tr><tr><td class = \"rowNumber\" style = \"font-weight: bold; text-align: right;\">5</td><td style = \"text-align: left;\">Prologue</td><td style = \"text-align: left;\">5</td><td style = \"text-align: left;\">5</td><td style = \"text-align: left;\">+0:11</td><td style = \"text-align: left;\">4</td><td style = \"text-align: left;\"></td><td style = \"text-align: left;\">TT</td><td style = \"text-align: left;\">DE LAS CUEVAS ArmandBanesto</td><td style = \"text-align: left;\">24</td><td style = \"text-align: left;\">Banesto</td><td style = \"text-align: left;\"></td><td style = \"text-align: left;\">32</td><td style = \"text-align: left;\"></td><td style = \"text-align: left;\">0:110:11</td><td style = \"text-align: left;\">50.262</td><td style = \"font-style: italic; text-align: left;\">missing</td><td style = \"font-style: italic; text-align: left;\">missing</td><td style = \"font-style: italic; text-align: left;\">missing</td><td style = \"font-style: italic; text-align: left;\">missing</td><td style = \"font-style: italic; text-align: left;\">missing</td></tr><tr><td class = \"rowNumber\" style = \"font-weight: bold; text-align: right;\">6</td><td style = \"text-align: left;\">Prologue</td><td style = \"text-align: left;\">6</td><td style = \"text-align: left;\">6</td><td style = \"text-align: left;\">+0:12</td><td style = \"text-align: left;\">6</td><td style = \"text-align: left;\"></td><td style = \"text-align: left;\">TT</td><td style = \"text-align: left;\">GARMENDIA AitorBanesto</td><td style = \"text-align: left;\">24</td><td style = \"text-align: left;\">Banesto</td><td style = \"text-align: left;\"></td><td style = \"text-align: left;\">26</td><td style = \"text-align: left;\"></td><td style = \"text-align: left;\">0:120:12</td><td style = \"text-align: left;\">50.174</td><td style = \"font-style: italic; text-align: left;\">missing</td><td style = \"font-style: italic; text-align: left;\">missing</td><td style = \"font-style: italic; text-align: left;\">missing</td><td style = \"font-style: italic; text-align: left;\">missing</td><td style = \"font-style: italic; text-align: left;\">missing</td></tr><tr><td class = \"rowNumber\" style = \"font-weight: bold; text-align: right;\">7</td><td style = \"text-align: left;\">Prologue</td><td style = \"text-align: left;\">7</td><td style = \"text-align: left;\">7</td><td style = \"text-align: left;\">+0:12</td><td style = \"text-align: left;\">212</td><td style = \"text-align: left;\"></td><td style = \"text-align: left;\">GC</td><td style = \"text-align: left;\">ALCALÁ RaúlPDM - Ultima - Concorde</td><td style = \"text-align: left;\">28</td><td style = \"text-align: left;\">PDM - Ultima - Concorde</td><td style = \"text-align: left;\"></td><td style = \"text-align: left;\">22</td><td style = \"text-align: left;\"></td><td style = \"text-align: left;\">,,0:12</td><td style = \"text-align: left;\">50.174</td><td style = \"font-style: italic; text-align: left;\">missing</td><td style = \"font-style: italic; text-align: left;\">missing</td><td style = \"font-style: italic; text-align: left;\">missing</td><td style = \"font-style: italic; text-align: left;\">missing</td><td style = \"font-style: italic; text-align: left;\">missing</td></tr><tr><td class = \"rowNumber\" style = \"font-weight: bold; text-align: right;\">8</td><td style = \"text-align: left;\">Prologue</td><td style = \"text-align: left;\">8</td><td style = \"text-align: left;\">8</td><td style = \"text-align: left;\">+0:12</td><td style = \"text-align: left;\">11</td><td style = \"text-align: left;\"></td><td style = \"text-align: left;\">Classic</td><td style = \"text-align: left;\">BUGNO GianniGatorade - Chateau d&apos;Ax </td><td style = \"text-align: left;\">28</td><td style = \"text-align: left;\">Gatorade - Chateau d&apos;Ax </td><td style = \"text-align: left;\"></td><td style = \"text-align: left;\">18</td><td style = \"text-align: left;\"></td><td style = \"text-align: left;\">,,0:12</td><td style = \"text-align: left;\">50.174</td><td style = \"font-style: italic; text-align: left;\">missing</td><td style = \"font-style: italic; text-align: left;\">missing</td><td style = \"font-style: italic; text-align: left;\">missing</td><td style = \"font-style: italic; text-align: left;\">missing</td><td style = \"font-style: italic; text-align: left;\">missing</td></tr><tr><td class = \"rowNumber\" style = \"font-weight: bold; text-align: right;\">9</td><td style = \"text-align: left;\">Prologue</td><td style = \"text-align: left;\">9</td><td style = \"text-align: left;\">9</td><td style = \"text-align: left;\">+0:12</td><td style = \"text-align: left;\">138</td><td style = \"text-align: left;\"></td><td style = \"text-align: left;\">Classic</td><td style = \"text-align: left;\">VAN HOOYDONCK EdwigBuckler - Colnago - Decca</td><td style = \"text-align: left;\">25</td><td style = \"text-align: left;\">Buckler - Colnago - Decca</td><td style = \"text-align: left;\"></td><td style = \"text-align: left;\">14</td><td style = \"text-align: left;\"></td><td style = \"text-align: left;\">,,0:12</td><td style = \"text-align: left;\">50.174</td><td style = \"font-style: italic; text-align: left;\">missing</td><td style = \"font-style: italic; text-align: left;\">missing</td><td style = \"font-style: italic; text-align: left;\">missing</td><td style = \"font-style: italic; text-align: left;\">missing</td><td style = \"font-style: italic; text-align: left;\">missing</td></tr><tr><td class = \"rowNumber\" style = \"font-weight: bold; text-align: right;\">10</td><td style = \"text-align: left;\">Prologue</td><td style = \"text-align: left;\">10</td><td style = \"text-align: left;\">10</td><td style = \"text-align: left;\">+0:13</td><td style = \"text-align: left;\">103</td><td style = \"text-align: left;\"></td><td style = \"text-align: left;\">TT</td><td style = \"text-align: left;\">EKIMOV ViatcheslavPanasonic - Sportlife</td><td style = \"text-align: left;\">26</td><td style = \"text-align: left;\">Panasonic - Sportlife</td><td style = \"text-align: left;\"></td><td style = \"text-align: left;\">10</td><td style = \"text-align: left;\"></td><td style = \"text-align: left;\">0:130:13</td><td style = \"text-align: left;\">50.087</td><td style = \"font-style: italic; text-align: left;\">missing</td><td style = \"font-style: italic; text-align: left;\">missing</td><td style = \"font-style: italic; text-align: left;\">missing</td><td style = \"font-style: italic; text-align: left;\">missing</td><td style = \"font-style: italic; text-align: left;\">missing</td></tr><tr><td class = \"rowNumber\" style = \"font-weight: bold; text-align: right;\">11</td><td style = \"text-align: left;\">Prologue</td><td style = \"text-align: left;\">11</td><td style = \"text-align: left;\">11</td><td style = \"text-align: left;\">+0:14</td><td style = \"text-align: left;\">211</td><td style = \"text-align: left;\"></td><td style = \"text-align: left;\">TT</td><td style = \"text-align: left;\">BREUKINK ErikPDM - Ultima - Concorde</td><td style = \"text-align: left;\">28</td><td style = \"text-align: left;\">PDM - Ultima - Concorde</td><td style = \"text-align: left;\"></td><td style = \"text-align: left;\">8</td><td style = \"text-align: left;\"></td><td style = \"text-align: left;\">0:140:14</td><td style = \"text-align: left;\">50.000</td><td style = \"font-style: italic; text-align: left;\">missing</td><td style = \"font-style: italic; text-align: left;\">missing</td><td style = \"font-style: italic; text-align: left;\">missing</td><td style = \"font-style: italic; text-align: left;\">missing</td><td style = \"font-style: italic; text-align: left;\">missing</td></tr><tr><td class = \"rowNumber\" style = \"font-weight: bold; text-align: right;\">12</td><td style = \"text-align: left;\">Prologue</td><td style = \"text-align: left;\">12</td><td style = \"text-align: left;\">12</td><td style = \"text-align: left;\">+0:14</td><td style = \"text-align: left;\">195</td><td style = \"text-align: left;\"></td><td style = \"text-align: left;\">TT</td><td style = \"text-align: left;\">MOREAU FrancisGB-MG Maglificio</td><td style = \"text-align: left;\">26</td><td style = \"text-align: left;\">GB-MG Maglificio</td><td style = \"text-align: left;\"></td><td style = \"text-align: left;\">6</td><td style = \"text-align: left;\"></td><td style = \"text-align: left;\">,,0:14</td><td style = \"text-align: left;\">50.000</td><td style = \"font-style: italic; text-align: left;\">missing</td><td style = \"font-style: italic; text-align: left;\">missing</td><td style = \"font-style: italic; text-align: left;\">missing</td><td style = \"font-style: italic; text-align: left;\">missing</td><td style = \"font-style: italic; text-align: left;\">missing</td></tr><tr><td class = \"rowNumber\" style = \"font-weight: bold; text-align: right;\">13</td><td style = \"text-align: left;\">Prologue</td><td style = \"text-align: left;\">13</td><td style = \"text-align: left;\">13</td><td style = \"text-align: left;\">+0:14</td><td style = \"text-align: left;\">139</td><td style = \"text-align: left;\"></td><td style = \"text-align: left;\">Sprint</td><td style = \"text-align: left;\">VANDERAERDEN EricBuckler - Colnago - Decca</td><td style = \"text-align: left;\">30</td><td style = \"text-align: left;\">Buckler - Colnago - Decca</td><td style = \"text-align: left;\"></td><td style = \"text-align: left;\">4</td><td style = \"text-align: left;\"></td><td style = \"text-align: left;\">,,0:14</td><td style = \"text-align: left;\">50.000</td><td style = \"font-style: italic; text-align: left;\">missing</td><td style = \"font-style: italic; text-align: left;\">missing</td><td style = \"font-style: italic; text-align: left;\">missing</td><td style = \"font-style: italic; text-align: left;\">missing</td><td style = \"font-style: italic; text-align: left;\">missing</td></tr><tr><td style = \"text-align: right;\">&vellip;</td><td style = \"text-align: right;\">&vellip;</td><td style = \"text-align: right;\">&vellip;</td><td style = \"text-align: right;\">&vellip;</td><td style = \"text-align: right;\">&vellip;</td><td style = \"text-align: right;\">&vellip;</td><td style = \"text-align: right;\">&vellip;</td><td style = \"text-align: right;\">&vellip;</td><td style = \"text-align: right;\">&vellip;</td><td style = \"text-align: right;\">&vellip;</td><td style = \"text-align: right;\">&vellip;</td><td style = \"text-align: right;\">&vellip;</td><td style = \"text-align: right;\">&vellip;</td><td style = \"text-align: right;\">&vellip;</td><td style = \"text-align: right;\">&vellip;</td><td style = \"text-align: right;\">&vellip;</td><td style = \"text-align: right;\">&vellip;</td><td style = \"text-align: right;\">&vellip;</td><td style = \"text-align: right;\">&vellip;</td><td style = \"text-align: right;\">&vellip;</td><td style = \"text-align: right;\">&vellip;</td></tr><tr><td class = \"rowNumber\" style = \"font-weight: bold; text-align: right;\">3669</td><td style = \"text-align: left;\">Stage 21</td><td style = \"text-align: left;\">119</td><td style = \"text-align: left;\">28</td><td style = \"text-align: left;\">+54:29</td><td style = \"text-align: left;\">145</td><td style = \"text-align: left;\"></td><td style = \"text-align: left;\">Classic</td><td style = \"text-align: left;\">ELLI AlbertoAriostea</td><td style = \"text-align: left;\">28</td><td style = \"text-align: left;\">Ariostea</td><td style = \"text-align: left;\"></td><td style = \"text-align: left;\"></td><td style = \"text-align: left;\"></td><td style = \"text-align: left;\">,,0:00</td><td style = \"text-align: left;\">missing</td><td style = \"font-style: italic; text-align: left;\">missing</td><td style = \"font-style: italic; text-align: left;\">missing</td><td style = \"font-style: italic; text-align: left;\">missing</td><td style = \"font-style: italic; text-align: left;\">missing</td><td style = \"font-style: italic; text-align: left;\">missing</td></tr><tr><td class = \"rowNumber\" style = \"font-weight: bold; text-align: right;\">3670</td><td style = \"text-align: left;\">Stage 21</td><td style = \"text-align: left;\">120</td><td style = \"text-align: left;\">125</td><td style = \"text-align: left;\">+3:39:28</td><td style = \"text-align: left;\">117</td><td style = \"text-align: left;\"></td><td style = \"text-align: left;\">TT</td><td style = \"text-align: left;\">ORTEGÓN Julio CésarManzana Postobón</td><td style = \"text-align: left;\">23</td><td style = \"text-align: left;\">Manzana Postobón</td><td style = \"text-align: left;\"></td><td style = \"text-align: left;\"></td><td style = \"text-align: left;\"></td><td style = \"text-align: left;\">,,0:00</td><td style = \"text-align: left;\">missing</td><td style = \"font-style: italic; text-align: left;\">missing</td><td style = \"font-style: italic; text-align: left;\">missing</td><td style = \"font-style: italic; text-align: left;\">missing</td><td style = \"font-style: italic; text-align: left;\">missing</td><td style = \"font-style: italic; text-align: left;\">missing</td></tr><tr><td class = \"rowNumber\" style = \"font-weight: bold; text-align: right;\">3671</td><td style = \"text-align: left;\">Stage 21</td><td style = \"text-align: left;\">121</td><td style = \"text-align: left;\">57</td><td style = \"text-align: left;\">+1:58:47</td><td style = \"text-align: left;\">85</td><td style = \"text-align: left;\"></td><td style = \"text-align: left;\">TT</td><td style = \"text-align: left;\">LOUVIOT PhilippeO.N.C.E. - Look - Mavic</td><td style = \"text-align: left;\">28</td><td style = \"text-align: left;\">O.N.C.E. - Look - Mavic</td><td style = \"text-align: left;\"></td><td style = \"text-align: left;\"></td><td style = \"text-align: left;\"></td><td style = \"text-align: left;\">,,0:00</td><td style = \"text-align: left;\">missing</td><td style = \"font-style: italic; text-align: left;\">missing</td><td style = \"font-style: italic; text-align: left;\">missing</td><td style = \"font-style: italic; text-align: left;\">missing</td><td style = \"font-style: italic; text-align: left;\">missing</td><td style = \"font-style: italic; text-align: left;\">missing</td></tr><tr><td class = \"rowNumber\" style = \"font-weight: bold; text-align: right;\">3672</td><td style = \"text-align: left;\">Stage 21</td><td style = \"text-align: left;\">122</td><td style = \"text-align: left;\">67</td><td style = \"text-align: left;\">+2:10:14</td><td style = \"text-align: left;\">158</td><td style = \"text-align: left;\"></td><td style = \"text-align: left;\">Classic</td><td style = \"text-align: left;\">MADIOT YvonTeam Telekom</td><td style = \"text-align: left;\">30</td><td style = \"text-align: left;\">Team Telekom</td><td style = \"text-align: left;\"></td><td style = \"text-align: left;\"></td><td style = \"text-align: left;\"></td><td style = \"text-align: left;\">,,0:00</td><td style = \"text-align: left;\">missing</td><td style = \"font-style: italic; text-align: left;\">missing</td><td style = \"font-style: italic; text-align: left;\">missing</td><td style = \"font-style: italic; text-align: left;\">missing</td><td style = \"font-style: italic; text-align: left;\">missing</td><td style = \"font-style: italic; text-align: left;\">missing</td></tr><tr><td class = \"rowNumber\" style = \"font-weight: bold; text-align: right;\">3673</td><td style = \"text-align: left;\">Stage 21</td><td style = \"text-align: left;\">123</td><td style = \"text-align: left;\">98</td><td style = \"text-align: left;\">+2:49:32</td><td style = \"text-align: left;\">2</td><td style = \"text-align: left;\"></td><td style = \"text-align: left;\">Sprint</td><td style = \"text-align: left;\">ALONSO MarinoBanesto</td><td style = \"text-align: left;\">26</td><td style = \"text-align: left;\">Banesto</td><td style = \"text-align: left;\"></td><td style = \"text-align: left;\"></td><td style = \"text-align: left;\"></td><td style = \"text-align: left;\">,,0:00</td><td style = \"text-align: left;\">missing</td><td style = \"font-style: italic; text-align: left;\">missing</td><td style = \"font-style: italic; text-align: left;\">missing</td><td style = \"font-style: italic; text-align: left;\">missing</td><td style = \"font-style: italic; text-align: left;\">missing</td><td style = \"font-style: italic; text-align: left;\">missing</td></tr><tr><td class = \"rowNumber\" style = \"font-weight: bold; text-align: right;\">3674</td><td style = \"text-align: left;\">Stage 21</td><td style = \"text-align: left;\">124</td><td style = \"text-align: left;\">71</td><td style = \"text-align: left;\">+2:12:33</td><td style = \"text-align: left;\">115</td><td style = \"text-align: left;\"></td><td style = \"text-align: left;\">TT</td><td style = \"text-align: left;\">KASPUTIS ArtūrasManzana Postobón</td><td style = \"text-align: left;\">25</td><td style = \"text-align: left;\">Manzana Postobón</td><td style = \"text-align: left;\"></td><td style = \"text-align: left;\"></td><td style = \"text-align: left;\"></td><td style = \"text-align: left;\">,,0:00</td><td style = \"text-align: left;\">missing</td><td style = \"font-style: italic; text-align: left;\">missing</td><td style = \"font-style: italic; text-align: left;\">missing</td><td style = \"font-style: italic; text-align: left;\">missing</td><td style = \"font-style: italic; text-align: left;\">missing</td><td style = \"font-style: italic; text-align: left;\">missing</td></tr><tr><td class = \"rowNumber\" style = \"font-weight: bold; text-align: right;\">3675</td><td style = \"text-align: left;\">Stage 21</td><td style = \"text-align: left;\">125</td><td style = \"text-align: left;\">54</td><td style = \"text-align: left;\">+1:43:24</td><td style = \"text-align: left;\">116</td><td style = \"text-align: left;\"></td><td style = \"text-align: left;\">GC</td><td style = \"text-align: left;\">MONCADA GerardoManzana Postobón</td><td style = \"text-align: left;\">30</td><td style = \"text-align: left;\">Manzana Postobón</td><td style = \"text-align: left;\"></td><td style = \"text-align: left;\"></td><td style = \"text-align: left;\"></td><td style = \"text-align: left;\">,,0:00</td><td style = \"text-align: left;\">missing</td><td style = \"font-style: italic; text-align: left;\">missing</td><td style = \"font-style: italic; text-align: left;\">missing</td><td style = \"font-style: italic; text-align: left;\">missing</td><td style = \"font-style: italic; text-align: left;\">missing</td><td style = \"font-style: italic; text-align: left;\">missing</td></tr><tr><td class = \"rowNumber\" style = \"font-weight: bold; text-align: right;\">3676</td><td style = \"text-align: left;\">Stage 21</td><td style = \"text-align: left;\">126</td><td style = \"text-align: left;\">74</td><td style = \"text-align: left;\">+2:15:42</td><td style = \"text-align: left;\">87</td><td style = \"text-align: left;\"></td><td style = \"text-align: left;\">Sprint</td><td style = \"text-align: left;\">STEPHENS NeilO.N.C.E. - Look - Mavic</td><td style = \"text-align: left;\">28</td><td style = \"text-align: left;\">O.N.C.E. - Look - Mavic</td><td style = \"text-align: left;\"></td><td style = \"text-align: left;\"></td><td style = \"text-align: left;\"></td><td style = \"text-align: left;\">0:260:26</td><td style = \"text-align: left;\">missing</td><td style = \"font-style: italic; text-align: left;\">missing</td><td style = \"font-style: italic; text-align: left;\">missing</td><td style = \"font-style: italic; text-align: left;\">missing</td><td style = \"font-style: italic; text-align: left;\">missing</td><td style = \"font-style: italic; text-align: left;\">missing</td></tr><tr><td class = \"rowNumber\" style = \"font-weight: bold; text-align: right;\">3677</td><td style = \"text-align: left;\">Stage 21</td><td style = \"text-align: left;\">127</td><td style = \"text-align: left;\">93</td><td style = \"text-align: left;\">+2:36:55</td><td style = \"text-align: left;\">83</td><td style = \"text-align: left;\"></td><td style = \"text-align: left;\">GC</td><td style = \"text-align: left;\">HODGE StephenO.N.C.E. - Look - Mavic</td><td style = \"text-align: left;\">31</td><td style = \"text-align: left;\">O.N.C.E. - Look - Mavic</td><td style = \"text-align: left;\"></td><td style = \"text-align: left;\"></td><td style = \"text-align: left;\"></td><td style = \"text-align: left;\">,,0:26</td><td style = \"text-align: left;\">missing</td><td style = \"font-style: italic; text-align: left;\">missing</td><td style = \"font-style: italic; text-align: left;\">missing</td><td style = \"font-style: italic; text-align: left;\">missing</td><td style = \"font-style: italic; text-align: left;\">missing</td><td style = \"font-style: italic; text-align: left;\">missing</td></tr><tr><td class = \"rowNumber\" style = \"font-weight: bold; text-align: right;\">3678</td><td style = \"text-align: left;\">Stage 21</td><td style = \"text-align: left;\">128</td><td style = \"text-align: left;\">91</td><td style = \"text-align: left;\">+2:35:27</td><td style = \"text-align: left;\">135</td><td style = \"text-align: left;\"></td><td style = \"text-align: left;\">Classic</td><td style = \"text-align: left;\">MAASSEN FransBuckler - Colnago - Decca</td><td style = \"text-align: left;\">27</td><td style = \"text-align: left;\">Buckler - Colnago - Decca</td><td style = \"text-align: left;\"></td><td style = \"text-align: left;\"></td><td style = \"text-align: left;\"></td><td style = \"text-align: left;\">,,0:26</td><td style = \"text-align: left;\">missing</td><td style = \"font-style: italic; text-align: left;\">missing</td><td style = \"font-style: italic; text-align: left;\">missing</td><td style = \"font-style: italic; text-align: left;\">missing</td><td style = \"font-style: italic; text-align: left;\">missing</td><td style = \"font-style: italic; text-align: left;\">missing</td></tr><tr><td class = \"rowNumber\" style = \"font-weight: bold; text-align: right;\">3679</td><td style = \"text-align: left;\">Stage 21</td><td style = \"text-align: left;\">129</td><td style = \"text-align: left;\">87</td><td style = \"text-align: left;\">+2:32:38</td><td style = \"text-align: left;\">218</td><td style = \"text-align: left;\"></td><td style = \"text-align: left;\">Classic</td><td style = \"text-align: left;\">VAN AERT JosPDM - Ultima - Concorde</td><td style = \"text-align: left;\">29</td><td style = \"text-align: left;\">PDM - Ultima - Concorde</td><td style = \"text-align: left;\"></td><td style = \"text-align: left;\"></td><td style = \"text-align: left;\"></td><td style = \"text-align: left;\">,,0:26</td><td style = \"text-align: left;\">missing</td><td style = \"font-style: italic; text-align: left;\">missing</td><td style = \"font-style: italic; text-align: left;\">missing</td><td style = \"font-style: italic; text-align: left;\">missing</td><td style = \"font-style: italic; text-align: left;\">missing</td><td style = \"font-style: italic; text-align: left;\">missing</td></tr><tr><td class = \"rowNumber\" style = \"font-weight: bold; text-align: right;\">3680</td><td style = \"text-align: left;\">Stage 21</td><td style = \"text-align: left;\">130</td><td style = \"text-align: left;\">119</td><td style = \"text-align: left;\">+3:23:44</td><td style = \"text-align: left;\">45</td><td style = \"text-align: left;\"></td><td style = \"text-align: left;\">Sprint</td><td style = \"text-align: left;\">DURAND JackyCastorama</td><td style = \"text-align: left;\">25</td><td style = \"text-align: left;\">Castorama</td><td style = \"text-align: left;\"></td><td style = \"text-align: left;\"></td><td style = \"text-align: left;\"></td><td style = \"text-align: left;\">,,0:26</td><td style = \"text-align: left;\">missing</td><td style = \"font-style: italic; text-align: left;\">missing</td><td style = \"font-style: italic; text-align: left;\">missing</td><td style = \"font-style: italic; text-align: left;\">missing</td><td style = \"font-style: italic; text-align: left;\">missing</td><td style = \"font-style: italic; text-align: left;\">missing</td></tr></tbody></table></div>"
      ],
      "text/latex": [
       "\\begin{tabular}{r|ccccccccc}\n",
       "\t& Stage & Rnk & GC & Timelag & BIB & H2H & Specialty & Rider & \\\\\n",
       "\t\\hline\n",
       "\t& String & String? & String? & String? & String? & String? & String? & String? & \\\\\n",
       "\t\\hline\n",
       "\t1 & Prologue & 1 & 1 & +0:00 & 1 &  & TT & INDURAIN MiguelBanesto & $\\dots$ \\\\\n",
       "\t2 & Prologue & 2 & 2 & +0:02 & 89 &  & TT & ZÜLLE AlexO.N.C.E. - Look - Mavic & $\\dots$ \\\\\n",
       "\t3 & Prologue & 3 & 3 & +0:03 & 47 &  & TT & MARIE ThierryCastorama & $\\dots$ \\\\\n",
       "\t4 & Prologue & 4 & 4 & +0:04 & 136 &  & TT & NIJDAM JelleBuckler - Colnago - Decca & $\\dots$ \\\\\n",
       "\t5 & Prologue & 5 & 5 & +0:11 & 4 &  & TT & DE LAS CUEVAS ArmandBanesto & $\\dots$ \\\\\n",
       "\t6 & Prologue & 6 & 6 & +0:12 & 6 &  & TT & GARMENDIA AitorBanesto & $\\dots$ \\\\\n",
       "\t7 & Prologue & 7 & 7 & +0:12 & 212 &  & GC & ALCALÁ RaúlPDM - Ultima - Concorde & $\\dots$ \\\\\n",
       "\t8 & Prologue & 8 & 8 & +0:12 & 11 &  & Classic & BUGNO GianniGatorade - Chateau d'Ax  & $\\dots$ \\\\\n",
       "\t9 & Prologue & 9 & 9 & +0:12 & 138 &  & Classic & VAN HOOYDONCK EdwigBuckler - Colnago - Decca & $\\dots$ \\\\\n",
       "\t10 & Prologue & 10 & 10 & +0:13 & 103 &  & TT & EKIMOV ViatcheslavPanasonic - Sportlife & $\\dots$ \\\\\n",
       "\t11 & Prologue & 11 & 11 & +0:14 & 211 &  & TT & BREUKINK ErikPDM - Ultima - Concorde & $\\dots$ \\\\\n",
       "\t12 & Prologue & 12 & 12 & +0:14 & 195 &  & TT & MOREAU FrancisGB-MG Maglificio & $\\dots$ \\\\\n",
       "\t13 & Prologue & 13 & 13 & +0:14 & 139 &  & Sprint & VANDERAERDEN EricBuckler - Colnago - Decca & $\\dots$ \\\\\n",
       "\t14 & Prologue & 14 & 14 & +0:14 & 23 &  & Sprint & BONTEMPI GuidoCarrera Jeans - Vagabond & $\\dots$ \\\\\n",
       "\t15 & Prologue & 15 & 15 & +0:14 & 51 &  & GC & LEMOND GregZ - Lemond & $\\dots$ \\\\\n",
       "\t16 & Prologue & 16 & 16 & +0:16 & 115 &  & TT & KASPUTIS ArtūrasManzana Postobón & $\\dots$ \\\\\n",
       "\t17 & Prologue & 17 & 17 & +0:18 & 45 &  & Sprint & DURAND JackyCastorama & $\\dots$ \\\\\n",
       "\t18 & Prologue & 18 & 18 & +0:18 & 135 &  & Classic & MAASSEN FransBuckler - Colnago - Decca & $\\dots$ \\\\\n",
       "\t19 & Prologue & 19 & 19 & +0:18 & 146 &  & Classic & GÖLZ RolfAriostea & $\\dots$ \\\\\n",
       "\t20 & Prologue & 20 & 20 & +0:20 & 12 &  & TT & CHIURATO AndreaGatorade - Chateau d'Ax  & $\\dots$ \\\\\n",
       "\t21 & Prologue & 21 & 21 & +0:20 & 105 &  & Sprint & NELISSEN WilfriedPanasonic - Sportlife & $\\dots$ \\\\\n",
       "\t22 & Prologue & 22 & 22 & +0:20 & 28 &  & GC & ROCHE StephenCarrera Jeans - Vagabond & $\\dots$ \\\\\n",
       "\t23 & Prologue & 23 & 23 & +0:20 & 17 &  & GC & RUÍZ CABESTANY PelloGatorade - Chateau d'Ax  & $\\dots$ \\\\\n",
       "\t24 & Prologue & 24 & 24 & +0:20 & 34 &  & GC & LINO PascalR.M.O. & $\\dots$ \\\\\n",
       "\t$\\dots$ & $\\dots$ & $\\dots$ & $\\dots$ & $\\dots$ & $\\dots$ & $\\dots$ & $\\dots$ & $\\dots$ &  \\\\\n",
       "\\end{tabular}\n"
      ],
      "text/plain": [
       "\u001b[1m3680×20 DataFrame\u001b[0m\n",
       "\u001b[1m  Row \u001b[0m│\u001b[1m Stage    \u001b[0m\u001b[1m Rnk     \u001b[0m\u001b[1m GC      \u001b[0m\u001b[1m Timelag  \u001b[0m\u001b[1m BIB     \u001b[0m\u001b[1m H2H     \u001b[0m\u001b[1m Specialty \u001b[0m\u001b[1m Rid\u001b[0m ⋯\n",
       "      │\u001b[90m String   \u001b[0m\u001b[90m String? \u001b[0m\u001b[90m String? \u001b[0m\u001b[90m String?  \u001b[0m\u001b[90m String? \u001b[0m\u001b[90m String? \u001b[0m\u001b[90m String?   \u001b[0m\u001b[90m Str\u001b[0m ⋯\n",
       "──────┼─────────────────────────────────────────────────────────────────────────\n",
       "    1 │ Prologue  1        1        +0:00     1                 TT         IND ⋯\n",
       "    2 │ Prologue  2        2        +0:02     89                TT         ZÜL\n",
       "    3 │ Prologue  3        3        +0:03     47                TT         MAR\n",
       "    4 │ Prologue  4        4        +0:04     136               TT         NIJ\n",
       "    5 │ Prologue  5        5        +0:11     4                 TT         DE  ⋯\n",
       "    6 │ Prologue  6        6        +0:12     6                 TT         GAR\n",
       "    7 │ Prologue  7        7        +0:12     212               GC         ALC\n",
       "    8 │ Prologue  8        8        +0:12     11                Classic    BUG\n",
       "  ⋮   │    ⋮         ⋮        ⋮        ⋮         ⋮        ⋮         ⋮          ⋱\n",
       " 3674 │ Stage 21  124      71       +2:12:33  115               TT         KAS ⋯\n",
       " 3675 │ Stage 21  125      54       +1:43:24  116               GC         MON\n",
       " 3676 │ Stage 21  126      74       +2:15:42  87                Sprint     STE\n",
       " 3677 │ Stage 21  127      93       +2:36:55  83                GC         HOD\n",
       " 3678 │ Stage 21  128      91       +2:35:27  135               Classic    MAA ⋯\n",
       " 3679 │ Stage 21  129      87       +2:32:38  218               Classic    VAN\n",
       " 3680 │ Stage 21  130      119      +3:23:44  45                Sprint     DUR\n",
       "\u001b[36m                                                13 columns and 3665 rows omitted\u001b[0m"
      ]
     },
     "metadata": {},
     "output_type": "display_data"
    }
   ],
   "source": [
    "out"
   ]
  },
  {
   "cell_type": "code",
   "execution_count": 601,
   "metadata": {},
   "outputs": [
    {
     "ename": "MethodError",
     "evalue": "MethodError: no method matching _replace!(::Base.var\"#new#352\"{Tuple{Pair{String, String}}}, ::String, ::String, ::Int64)\nClosest candidates are:\n  _replace!(::Union{Function, Type}, !Matched::AbstractArray, !Matched::AbstractArray, ::Int64) at set.jl:716\n  _replace!(::Union{Function, Type}, !Matched::Dict{K, V}, !Matched::AbstractDict, ::Int64) where {K, V} at set.jl:749\n  _replace!(::Union{Function, Type}, !Matched::Set{T}, !Matched::AbstractSet, ::Int64) where T at set.jl:781\n  ...",
     "output_type": "error",
     "traceback": [
      "MethodError: no method matching _replace!(::Base.var\"#new#352\"{Tuple{Pair{String, String}}}, ::String, ::String, ::Int64)\n",
      "Closest candidates are:\n",
      "  _replace!(::Union{Function, Type}, !Matched::AbstractArray, !Matched::AbstractArray, ::Int64) at set.jl:716\n",
      "  _replace!(::Union{Function, Type}, !Matched::Dict{K, V}, !Matched::AbstractDict, ::Int64) where {K, V} at set.jl:749\n",
      "  _replace!(::Union{Function, Type}, !Matched::Set{T}, !Matched::AbstractSet, ::Int64) where T at set.jl:781\n",
      "  ...\n",
      "\n",
      "Stacktrace:\n",
      " [1] replace_pairs!(res::String, A::String, count::Int64, old_new::Tuple{Pair{String, String}})\n",
      "   @ Base ./set.jl:541\n",
      " [2] replace!(A::String, old_new::Pair{String, String}; count::Int64)\n",
      "   @ Base ./set.jl:531\n",
      " [3] replace!(A::String, old_new::Pair{String, String})\n",
      "   @ Base ./set.jl:531\n",
      " [4] top-level scope\n",
      "   @ ~/Documents/GitHub/TdF/TdF.ipynb:1"
     ]
    }
   ],
   "source": [
    "replace(out.Timelag[1], \"+\" => \"\")"
   ]
  },
  {
   "cell_type": "code",
   "execution_count": 595,
   "metadata": {},
   "outputs": [
    {
     "data": {
      "text/plain": [
       "3680-element Vector{SubString{String}}:\n",
       " \"0:00\"\n",
       " \"0:02\"\n",
       " \"0:03\"\n",
       " \"0:04\"\n",
       " \"0:11\"\n",
       " \"0:12\"\n",
       " \"0:12\"\n",
       " \"0:12\"\n",
       " \"0:12\"\n",
       " \"0:13\"\n",
       " ⋮\n",
       " \"2:10:14\"\n",
       " \"2:49:32\"\n",
       " \"2:12:33\"\n",
       " \"1:43:24\"\n",
       " \"2:15:42\"\n",
       " \"2:36:55\"\n",
       " \"2:35:27\"\n",
       " \"2:32:38\"\n",
       " \"3:23:44\""
      ]
     },
     "metadata": {},
     "output_type": "display_data"
    }
   ],
   "source": [
    "out.Timelag = chop.(out.Timelag,head=1,tail=0)\n",
    "out.Timelag[findall(findall(isnothing.(match.(r\"(:\\d\\d:\\d\\d)\",out.Timelag))))]"
   ]
  },
  {
   "cell_type": "code",
   "execution_count": 465,
   "metadata": {},
   "outputs": [
    {
     "data": {
      "text/html": [
       "<div><div style = \"float: left;\"><span>5×13 DataFrame</span></div><div style = \"clear: both;\"></div></div><div class = \"data-frame\" style = \"overflow-x: scroll;\"><table class = \"data-frame\" style = \"margin-bottom: 6px;\"><thead><tr class = \"header\"><th class = \"rowNumber\" style = \"font-weight: bold; text-align: right;\">Row</th><th style = \"text-align: left;\">Rnk</th><th style = \"text-align: left;\">GC</th><th style = \"text-align: left;\">Timelag</th><th style = \"text-align: left;\">BIB</th><th style = \"text-align: left;\">H2H</th><th style = \"text-align: left;\">Specialty</th><th style = \"text-align: left;\">Rider</th><th style = \"text-align: left;\">Age</th><th style = \"text-align: left;\">Team</th><th style = \"text-align: left;\">UCI</th><th style = \"text-align: left;\">Pnt</th><th style = \"text-align: left;\"></th><th style = \"text-align: left;\">Time</th></tr><tr class = \"subheader headerLastRow\"><th class = \"rowNumber\" style = \"font-weight: bold; text-align: right;\"></th><th title = \"String\" style = \"text-align: left;\">String</th><th title = \"String\" style = \"text-align: left;\">String</th><th title = \"String\" style = \"text-align: left;\">String</th><th title = \"String\" style = \"text-align: left;\">String</th><th title = \"String\" style = \"text-align: left;\">String</th><th title = \"String\" style = \"text-align: left;\">String</th><th title = \"String\" style = \"text-align: left;\">String</th><th title = \"String\" style = \"text-align: left;\">String</th><th title = \"String\" style = \"text-align: left;\">String</th><th title = \"String\" style = \"text-align: left;\">String</th><th title = \"String\" style = \"text-align: left;\">String</th><th title = \"String\" style = \"text-align: left;\">String</th><th title = \"String\" style = \"text-align: left;\">String</th></tr></thead><tbody><tr><td class = \"rowNumber\" style = \"font-weight: bold; text-align: right;\">1</td><td style = \"text-align: left;\">1</td><td style = \"text-align: left;\">13</td><td style = \"text-align: left;\">+0:59</td><td style = \"text-align: left;\">75</td><td style = \"text-align: left;\"></td><td style = \"text-align: left;\">Sprint</td><td style = \"text-align: left;\">GREIPEL AndréLotto Soudal</td><td style = \"text-align: left;\">32</td><td style = \"text-align: left;\">Lotto Soudal</td><td style = \"text-align: left;\">20</td><td style = \"text-align: left;\">100</td><td style = \"text-align: left;\"></td><td style = \"text-align: left;\">3:29:03</td></tr><tr><td class = \"rowNumber\" style = \"font-weight: bold; text-align: right;\">2</td><td style = \"text-align: left;\">2</td><td style = \"text-align: left;\">4</td><td style = \"text-align: left;\">+0:33</td><td style = \"text-align: left;\">47</td><td style = \"text-align: left;\"></td><td style = \"text-align: left;\">Sprint</td><td style = \"text-align: left;\">SAGAN PeterTinkoff - Saxo</td><td style = \"text-align: left;\">25</td><td style = \"text-align: left;\">Tinkoff - Saxo</td><td style = \"text-align: left;\">10</td><td style = \"text-align: left;\">70</td><td style = \"text-align: left;\"></td><td style = \"text-align: left;\">,,0:00</td></tr><tr><td class = \"rowNumber\" style = \"font-weight: bold; text-align: right;\">3</td><td style = \"text-align: left;\">3</td><td style = \"text-align: left;\">1</td><td style = \"text-align: left;\">+0:00</td><td style = \"text-align: left;\">143</td><td style = \"text-align: left;\"></td><td style = \"text-align: left;\">TT</td><td style = \"text-align: left;\">CANCELLARA FabianTrek Factory Racing </td><td style = \"text-align: left;\">34</td><td style = \"text-align: left;\">Trek Factory Racing </td><td style = \"text-align: left;\">6</td><td style = \"text-align: left;\">50</td><td style = \"text-align: left;\"></td><td style = \"text-align: left;\">,,0:00</td></tr><tr><td class = \"rowNumber\" style = \"font-weight: bold; text-align: right;\">4</td><td style = \"text-align: left;\">4</td><td style = \"text-align: left;\">21</td><td style = \"text-align: left;\">+1:24</td><td style = \"text-align: left;\">112</td><td style = \"text-align: left;\"></td><td style = \"text-align: left;\">Sprint</td><td style = \"text-align: left;\">CAVENDISH MarkEtixx - Quick Step</td><td style = \"text-align: left;\">30</td><td style = \"text-align: left;\">Etixx - Quick Step</td><td style = \"text-align: left;\">4</td><td style = \"text-align: left;\">40</td><td style = \"text-align: left;\"></td><td style = \"text-align: left;\">,,0:00</td></tr><tr><td class = \"rowNumber\" style = \"font-weight: bold; text-align: right;\">5</td><td style = \"text-align: left;\">5</td><td style = \"text-align: left;\">6</td><td style = \"text-align: left;\">+0:42</td><td style = \"text-align: left;\">64</td><td style = \"text-align: left;\"></td><td style = \"text-align: left;\">Classic</td><td style = \"text-align: left;\">OSS DanielBMC Racing Team</td><td style = \"text-align: left;\">28</td><td style = \"text-align: left;\">BMC Racing Team</td><td style = \"text-align: left;\">2</td><td style = \"text-align: left;\">32</td><td style = \"text-align: left;\"></td><td style = \"text-align: left;\">,,0:00</td></tr></tbody></table></div>"
      ],
      "text/latex": [
       "\\begin{tabular}{r|cccccccc}\n",
       "\t& Rnk & GC & Timelag & BIB & H2H & Specialty & Rider & \\\\\n",
       "\t\\hline\n",
       "\t& String & String & String & String & String & String & String & \\\\\n",
       "\t\\hline\n",
       "\t1 & 1 & 13 & +0:59 & 75 &  & Sprint & GREIPEL AndréLotto Soudal & $\\dots$ \\\\\n",
       "\t2 & 2 & 4 & +0:33 & 47 &  & Sprint & SAGAN PeterTinkoff - Saxo & $\\dots$ \\\\\n",
       "\t3 & 3 & 1 & +0:00 & 143 &  & TT & CANCELLARA FabianTrek Factory Racing  & $\\dots$ \\\\\n",
       "\t4 & 4 & 21 & +1:24 & 112 &  & Sprint & CAVENDISH MarkEtixx - Quick Step & $\\dots$ \\\\\n",
       "\t5 & 5 & 6 & +0:42 & 64 &  & Classic & OSS DanielBMC Racing Team & $\\dots$ \\\\\n",
       "\\end{tabular}\n"
      ],
      "text/plain": [
       "\u001b[1m5×13 DataFrame\u001b[0m\n",
       "\u001b[1m Row \u001b[0m│\u001b[1m Rnk    \u001b[0m\u001b[1m GC     \u001b[0m\u001b[1m Timelag \u001b[0m\u001b[1m BIB    \u001b[0m\u001b[1m H2H    \u001b[0m\u001b[1m Specialty \u001b[0m\u001b[1m Rider              \u001b[0m ⋯\n",
       "     │\u001b[90m String \u001b[0m\u001b[90m String \u001b[0m\u001b[90m String  \u001b[0m\u001b[90m String \u001b[0m\u001b[90m String \u001b[0m\u001b[90m String    \u001b[0m\u001b[90m String             \u001b[0m ⋯\n",
       "─────┼──────────────────────────────────────────────────────────────────────────\n",
       "   1 │ 1       13      +0:59    75              Sprint     GREIPEL AndréLotto  ⋯\n",
       "   2 │ 2       4       +0:33    47              Sprint     SAGAN PeterTinkoff\n",
       "   3 │ 3       1       +0:00    143             TT         CANCELLARA FabianTr\n",
       "   4 │ 4       21      +1:24    112             Sprint     CAVENDISH MarkEtixx\n",
       "   5 │ 5       6       +0:42    64              Classic    OSS DanielBMC Racin ⋯\n",
       "\u001b[36m                                                               7 columns omitted\u001b[0m"
      ]
     },
     "metadata": {},
     "output_type": "display_data"
    }
   ],
   "source": [
    "standard = DataFrame(scrape_tables(\"https://www.procyclingstats.com/race/tour-de-france/\" * string(2015) *\"/\" * lowercase(replace(\"Stage 2\",\" \" => \"-\")))[1])[1:5,:]"
   ]
  },
  {
   "cell_type": "code",
   "execution_count": 495,
   "metadata": {},
   "outputs": [
    {
     "data": {
      "text/html": [
       "<div><div style = \"float: left;\"><span>184×10 DataFrame</span></div><div style = \"float: right;\"><span style = \"font-style: italic;\">159 rows omitted</span></div><div style = \"clear: both;\"></div></div><div class = \"data-frame\" style = \"overflow-x: scroll;\"><table class = \"data-frame\" style = \"margin-bottom: 6px;\"><thead><tr class = \"header\"><th class = \"rowNumber\" style = \"font-weight: bold; text-align: right;\">Row</th><th style = \"text-align: left;\">Pos.</th><th style = \"text-align: left;\">Team</th><th style = \"text-align: left;\">Time</th><th style = \"text-align: left;\">Timegap</th><th style = \"text-align: left;\">Speed</th><th style = \"text-align: left;\">PCS points</th><th style = \"text-align: left;\">UCI points</th><th style = \"text-align: left;\">Rnk</th><th style = \"text-align: left;\">Rider</th><th style = \"text-align: left;\">Timelag</th></tr><tr class = \"subheader headerLastRow\"><th class = \"rowNumber\" style = \"font-weight: bold; text-align: right;\"></th><th title = \"String\" style = \"text-align: left;\">String</th><th title = \"String\" style = \"text-align: left;\">String</th><th title = \"String\" style = \"text-align: left;\">String</th><th title = \"String\" style = \"text-align: left;\">String</th><th title = \"String\" style = \"text-align: left;\">String</th><th title = \"String\" style = \"text-align: left;\">String</th><th title = \"String\" style = \"text-align: left;\">String</th><th title = \"String\" style = \"text-align: left;\">String</th><th title = \"String\" style = \"text-align: left;\">String</th><th title = \"String\" style = \"text-align: left;\">String</th></tr></thead><tbody><tr><td class = \"rowNumber\" style = \"font-weight: bold; text-align: right;\">1</td><td style = \"text-align: left;\"></td><td style = \"text-align: left;\">BMC Racing Team</td><td style = \"text-align: left;\"></td><td style = \"text-align: left;\"></td><td style = \"text-align: left;\"></td><td style = \"text-align: left;\">20</td><td style = \"text-align: left;\"></td><td style = \"text-align: left;\">1</td><td style = \"text-align: left;\">OSS Daniel</td><td style = \"text-align: left;\">+0.00</td></tr><tr><td class = \"rowNumber\" style = \"font-weight: bold; text-align: right;\">2</td><td style = \"text-align: left;\"></td><td style = \"text-align: left;\">BMC Racing Team</td><td style = \"text-align: left;\"></td><td style = \"text-align: left;\"></td><td style = \"text-align: left;\"></td><td style = \"text-align: left;\">20</td><td style = \"text-align: left;\"></td><td style = \"text-align: left;\">1</td><td style = \"text-align: left;\">DENNIS Rohan</td><td style = \"text-align: left;\">+0.00</td></tr><tr><td class = \"rowNumber\" style = \"font-weight: bold; text-align: right;\">3</td><td style = \"text-align: left;\"></td><td style = \"text-align: left;\">BMC Racing Team</td><td style = \"text-align: left;\"></td><td style = \"text-align: left;\"></td><td style = \"text-align: left;\"></td><td style = \"text-align: left;\">20</td><td style = \"text-align: left;\"></td><td style = \"text-align: left;\">1</td><td style = \"text-align: left;\">CARUSO Damiano</td><td style = \"text-align: left;\">+0.00</td></tr><tr><td class = \"rowNumber\" style = \"font-weight: bold; text-align: right;\">4</td><td style = \"text-align: left;\"></td><td style = \"text-align: left;\">BMC Racing Team</td><td style = \"text-align: left;\"></td><td style = \"text-align: left;\"></td><td style = \"text-align: left;\"></td><td style = \"text-align: left;\">20</td><td style = \"text-align: left;\"></td><td style = \"text-align: left;\">1</td><td style = \"text-align: left;\">QUINZIATO Manuel</td><td style = \"text-align: left;\">+0.00</td></tr><tr><td class = \"rowNumber\" style = \"font-weight: bold; text-align: right;\">5</td><td style = \"text-align: left;\"></td><td style = \"text-align: left;\">BMC Racing Team</td><td style = \"text-align: left;\"></td><td style = \"text-align: left;\"></td><td style = \"text-align: left;\"></td><td style = \"text-align: left;\">20</td><td style = \"text-align: left;\"></td><td style = \"text-align: left;\">1</td><td style = \"text-align: left;\">VAN AVERMAET Greg</td><td style = \"text-align: left;\">+0.00</td></tr><tr><td class = \"rowNumber\" style = \"font-weight: bold; text-align: right;\">6</td><td style = \"text-align: left;\"></td><td style = \"text-align: left;\">BMC Racing Team</td><td style = \"text-align: left;\"></td><td style = \"text-align: left;\"></td><td style = \"text-align: left;\"></td><td style = \"text-align: left;\">20</td><td style = \"text-align: left;\"></td><td style = \"text-align: left;\">1</td><td style = \"text-align: left;\">SCHÄR Michael</td><td style = \"text-align: left;\">+0.00</td></tr><tr><td class = \"rowNumber\" style = \"font-weight: bold; text-align: right;\">7</td><td style = \"text-align: left;\"></td><td style = \"text-align: left;\">BMC Racing Team</td><td style = \"text-align: left;\"></td><td style = \"text-align: left;\"></td><td style = \"text-align: left;\"></td><td style = \"text-align: left;\">20</td><td style = \"text-align: left;\"></td><td style = \"text-align: left;\">1</td><td style = \"text-align: left;\">SÁNCHEZ Samuel</td><td style = \"text-align: left;\">+0.00</td></tr><tr><td class = \"rowNumber\" style = \"font-weight: bold; text-align: right;\">8</td><td style = \"text-align: left;\"></td><td style = \"text-align: left;\">BMC Racing Team</td><td style = \"text-align: left;\"></td><td style = \"text-align: left;\"></td><td style = \"text-align: left;\"></td><td style = \"text-align: left;\">20</td><td style = \"text-align: left;\"></td><td style = \"text-align: left;\">1</td><td style = \"text-align: left;\">WYSS Danilo</td><td style = \"text-align: left;\">+0.00</td></tr><tr><td class = \"rowNumber\" style = \"font-weight: bold; text-align: right;\">9</td><td style = \"text-align: left;\"></td><td style = \"text-align: left;\">BMC Racing Team</td><td style = \"text-align: left;\"></td><td style = \"text-align: left;\"></td><td style = \"text-align: left;\"></td><td style = \"text-align: left;\">20</td><td style = \"text-align: left;\"></td><td style = \"text-align: left;\">1</td><td style = \"text-align: left;\">VAN GARDEREN Tejay</td><td style = \"text-align: left;\">+0.00</td></tr><tr><td class = \"rowNumber\" style = \"font-weight: bold; text-align: right;\">10</td><td style = \"text-align: left;\"></td><td style = \"text-align: left;\">Team Sky</td><td style = \"text-align: left;\"></td><td style = \"text-align: left;\"></td><td style = \"text-align: left;\"></td><td style = \"text-align: left;\">16</td><td style = \"text-align: left;\"></td><td style = \"text-align: left;\">2</td><td style = \"text-align: left;\">THOMAS Geraint</td><td style = \"text-align: left;\">+0:01</td></tr><tr><td class = \"rowNumber\" style = \"font-weight: bold; text-align: right;\">11</td><td style = \"text-align: left;\"></td><td style = \"text-align: left;\">Team Sky</td><td style = \"text-align: left;\"></td><td style = \"text-align: left;\"></td><td style = \"text-align: left;\"></td><td style = \"text-align: left;\">16</td><td style = \"text-align: left;\"></td><td style = \"text-align: left;\">2</td><td style = \"text-align: left;\">FROOME Chris</td><td style = \"text-align: left;\">+0:01</td></tr><tr><td class = \"rowNumber\" style = \"font-weight: bold; text-align: right;\">12</td><td style = \"text-align: left;\"></td><td style = \"text-align: left;\">Team Sky</td><td style = \"text-align: left;\"></td><td style = \"text-align: left;\"></td><td style = \"text-align: left;\"></td><td style = \"text-align: left;\">16</td><td style = \"text-align: left;\"></td><td style = \"text-align: left;\">2</td><td style = \"text-align: left;\">POELS Wout</td><td style = \"text-align: left;\">+0:01</td></tr><tr><td class = \"rowNumber\" style = \"font-weight: bold; text-align: right;\">13</td><td style = \"text-align: left;\"></td><td style = \"text-align: left;\">Team Sky</td><td style = \"text-align: left;\"></td><td style = \"text-align: left;\"></td><td style = \"text-align: left;\"></td><td style = \"text-align: left;\">16</td><td style = \"text-align: left;\"></td><td style = \"text-align: left;\">2</td><td style = \"text-align: left;\">KÖNIG Leopold</td><td style = \"text-align: left;\">+0:01</td></tr><tr><td style = \"text-align: right;\">&vellip;</td><td style = \"text-align: right;\">&vellip;</td><td style = \"text-align: right;\">&vellip;</td><td style = \"text-align: right;\">&vellip;</td><td style = \"text-align: right;\">&vellip;</td><td style = \"text-align: right;\">&vellip;</td><td style = \"text-align: right;\">&vellip;</td><td style = \"text-align: right;\">&vellip;</td><td style = \"text-align: right;\">&vellip;</td><td style = \"text-align: right;\">&vellip;</td><td style = \"text-align: right;\">&vellip;</td></tr><tr><td class = \"rowNumber\" style = \"font-weight: bold; text-align: right;\">173</td><td style = \"text-align: left;\"></td><td style = \"text-align: left;\">Cofidis, Solutions Crédits</td><td style = \"text-align: left;\"></td><td style = \"text-align: left;\"></td><td style = \"text-align: left;\"></td><td style = \"text-align: left;\"></td><td style = \"text-align: left;\"></td><td style = \"text-align: left;\">21</td><td style = \"text-align: left;\">SOUPE Geoffrey</td><td style = \"text-align: left;\">+2:32</td></tr><tr><td class = \"rowNumber\" style = \"font-weight: bold; text-align: right;\">174</td><td style = \"text-align: left;\"></td><td style = \"text-align: left;\">Cofidis, Solutions Crédits</td><td style = \"text-align: left;\"></td><td style = \"text-align: left;\"></td><td style = \"text-align: left;\"></td><td style = \"text-align: left;\"></td><td style = \"text-align: left;\"></td><td style = \"text-align: left;\">21</td><td style = \"text-align: left;\">SIMON Julien</td><td style = \"text-align: left;\">+2:32</td></tr><tr><td class = \"rowNumber\" style = \"font-weight: bold; text-align: right;\">175</td><td style = \"text-align: left;\"></td><td style = \"text-align: left;\">Cofidis, Solutions Crédits</td><td style = \"text-align: left;\"></td><td style = \"text-align: left;\"></td><td style = \"text-align: left;\"></td><td style = \"text-align: left;\"></td><td style = \"text-align: left;\"></td><td style = \"text-align: left;\">21</td><td style = \"text-align: left;\">SÉNÉCHAL Florian</td><td style = \"text-align: left;\">+2:32</td></tr><tr><td class = \"rowNumber\" style = \"font-weight: bold; text-align: right;\">176</td><td style = \"text-align: left;\"></td><td style = \"text-align: left;\">Cofidis, Solutions Crédits</td><td style = \"text-align: left;\"></td><td style = \"text-align: left;\"></td><td style = \"text-align: left;\"></td><td style = \"text-align: left;\"></td><td style = \"text-align: left;\"></td><td style = \"text-align: left;\">21</td><td style = \"text-align: left;\">VANBILSEN Kenneth</td><td style = \"text-align: left;\">+2:32</td></tr><tr><td class = \"rowNumber\" style = \"font-weight: bold; text-align: right;\">177</td><td style = \"text-align: left;\"></td><td style = \"text-align: left;\">Cofidis, Solutions Crédits</td><td style = \"text-align: left;\"></td><td style = \"text-align: left;\"></td><td style = \"text-align: left;\"></td><td style = \"text-align: left;\"></td><td style = \"text-align: left;\"></td><td style = \"text-align: left;\">21</td><td style = \"text-align: left;\">MATÉ Luis Ángel</td><td style = \"text-align: left;\">+2:32</td></tr><tr><td class = \"rowNumber\" style = \"font-weight: bold; text-align: right;\">178</td><td style = \"text-align: left;\"></td><td style = \"text-align: left;\">Cofidis, Solutions Crédits</td><td style = \"text-align: left;\"></td><td style = \"text-align: left;\"></td><td style = \"text-align: left;\"></td><td style = \"text-align: left;\"></td><td style = \"text-align: left;\"></td><td style = \"text-align: left;\">21</td><td style = \"text-align: left;\">LAPORTE Christophe</td><td style = \"text-align: left;\">+2:32</td></tr><tr><td class = \"rowNumber\" style = \"font-weight: bold; text-align: right;\">179</td><td style = \"text-align: left;\"></td><td style = \"text-align: left;\">Cofidis, Solutions Crédits</td><td style = \"text-align: left;\"></td><td style = \"text-align: left;\"></td><td style = \"text-align: left;\"></td><td style = \"text-align: left;\"></td><td style = \"text-align: left;\"></td><td style = \"text-align: left;\">21</td><td style = \"text-align: left;\">EDET Nicolas</td><td style = \"text-align: left;\">+2:32</td></tr><tr><td class = \"rowNumber\" style = \"font-weight: bold; text-align: right;\">180</td><td style = \"text-align: left;\"></td><td style = \"text-align: left;\">Orica GreenEDGE</td><td style = \"text-align: left;\"></td><td style = \"text-align: left;\"></td><td style = \"text-align: left;\"></td><td style = \"text-align: left;\"></td><td style = \"text-align: left;\"></td><td style = \"text-align: left;\">22</td><td style = \"text-align: left;\">MATTHEWS Michael</td><td style = \"text-align: left;\">+4:58</td></tr><tr><td class = \"rowNumber\" style = \"font-weight: bold; text-align: right;\">181</td><td style = \"text-align: left;\"></td><td style = \"text-align: left;\">Orica GreenEDGE</td><td style = \"text-align: left;\"></td><td style = \"text-align: left;\"></td><td style = \"text-align: left;\"></td><td style = \"text-align: left;\"></td><td style = \"text-align: left;\"></td><td style = \"text-align: left;\">22</td><td style = \"text-align: left;\">DURBRIDGE Luke</td><td style = \"text-align: left;\">+4:58</td></tr><tr><td class = \"rowNumber\" style = \"font-weight: bold; text-align: right;\">182</td><td style = \"text-align: left;\"></td><td style = \"text-align: left;\">Orica GreenEDGE</td><td style = \"text-align: left;\"></td><td style = \"text-align: left;\"></td><td style = \"text-align: left;\"></td><td style = \"text-align: left;\"></td><td style = \"text-align: left;\"></td><td style = \"text-align: left;\">22</td><td style = \"text-align: left;\">TUFT Svein</td><td style = \"text-align: left;\">+4:58</td></tr><tr><td class = \"rowNumber\" style = \"font-weight: bold; text-align: right;\">183</td><td style = \"text-align: left;\"></td><td style = \"text-align: left;\">Orica GreenEDGE</td><td style = \"text-align: left;\"></td><td style = \"text-align: left;\"></td><td style = \"text-align: left;\"></td><td style = \"text-align: left;\"></td><td style = \"text-align: left;\"></td><td style = \"text-align: left;\">22</td><td style = \"text-align: left;\">YATES Simon</td><td style = \"text-align: left;\">+4:58</td></tr><tr><td class = \"rowNumber\" style = \"font-weight: bold; text-align: right;\">184</td><td style = \"text-align: left;\"></td><td style = \"text-align: left;\">Orica GreenEDGE</td><td style = \"text-align: left;\"></td><td style = \"text-align: left;\"></td><td style = \"text-align: left;\"></td><td style = \"text-align: left;\"></td><td style = \"text-align: left;\"></td><td style = \"text-align: left;\">22</td><td style = \"text-align: left;\">YATES Adam</td><td style = \"text-align: left;\">+4:58</td></tr></tbody></table></div>"
      ],
      "text/latex": [
       "\\begin{tabular}{r|ccccccccc}\n",
       "\t& Pos. & Team & Time & Timegap & Speed & PCS points & UCI points & Rnk & \\\\\n",
       "\t\\hline\n",
       "\t& String & String & String & String & String & String & String & String & \\\\\n",
       "\t\\hline\n",
       "\t1 &  & BMC Racing Team &  &  &  & 20 &  & 1 & $\\dots$ \\\\\n",
       "\t2 &  & BMC Racing Team &  &  &  & 20 &  & 1 & $\\dots$ \\\\\n",
       "\t3 &  & BMC Racing Team &  &  &  & 20 &  & 1 & $\\dots$ \\\\\n",
       "\t4 &  & BMC Racing Team &  &  &  & 20 &  & 1 & $\\dots$ \\\\\n",
       "\t5 &  & BMC Racing Team &  &  &  & 20 &  & 1 & $\\dots$ \\\\\n",
       "\t6 &  & BMC Racing Team &  &  &  & 20 &  & 1 & $\\dots$ \\\\\n",
       "\t7 &  & BMC Racing Team &  &  &  & 20 &  & 1 & $\\dots$ \\\\\n",
       "\t8 &  & BMC Racing Team &  &  &  & 20 &  & 1 & $\\dots$ \\\\\n",
       "\t9 &  & BMC Racing Team &  &  &  & 20 &  & 1 & $\\dots$ \\\\\n",
       "\t10 &  & Team Sky &  &  &  & 16 &  & 2 & $\\dots$ \\\\\n",
       "\t11 &  & Team Sky &  &  &  & 16 &  & 2 & $\\dots$ \\\\\n",
       "\t12 &  & Team Sky &  &  &  & 16 &  & 2 & $\\dots$ \\\\\n",
       "\t13 &  & Team Sky &  &  &  & 16 &  & 2 & $\\dots$ \\\\\n",
       "\t14 &  & Team Sky &  &  &  & 16 &  & 2 & $\\dots$ \\\\\n",
       "\t15 &  & Team Sky &  &  &  & 16 &  & 2 & $\\dots$ \\\\\n",
       "\t16 &  & Team Sky &  &  &  & 16 &  & 2 & $\\dots$ \\\\\n",
       "\t17 &  & Team Sky &  &  &  & 16 &  & 2 & $\\dots$ \\\\\n",
       "\t18 &  & Team Sky &  &  &  & 16 &  & 2 & $\\dots$ \\\\\n",
       "\t19 &  & Movistar Team &  &  &  & 12 &  & 3 & $\\dots$ \\\\\n",
       "\t20 &  & Movistar Team &  &  &  & 12 &  & 3 & $\\dots$ \\\\\n",
       "\t21 &  & Movistar Team &  &  &  & 12 &  & 3 & $\\dots$ \\\\\n",
       "\t22 &  & Movistar Team &  &  &  & 12 &  & 3 & $\\dots$ \\\\\n",
       "\t23 &  & Movistar Team &  &  &  & 12 &  & 3 & $\\dots$ \\\\\n",
       "\t24 &  & Movistar Team &  &  &  & 12 &  & 3 & $\\dots$ \\\\\n",
       "\t$\\dots$ & $\\dots$ & $\\dots$ & $\\dots$ & $\\dots$ & $\\dots$ & $\\dots$ & $\\dots$ & $\\dots$ &  \\\\\n",
       "\\end{tabular}\n"
      ],
      "text/plain": [
       "\u001b[1m184×10 DataFrame\u001b[0m\n",
       "\u001b[1m Row \u001b[0m│\u001b[1m Pos.   \u001b[0m\u001b[1m Team                       \u001b[0m\u001b[1m Time   \u001b[0m\u001b[1m Timegap \u001b[0m\u001b[1m Speed  \u001b[0m\u001b[1m PCS points\u001b[0m ⋯\n",
       "     │\u001b[90m String \u001b[0m\u001b[90m String                     \u001b[0m\u001b[90m String \u001b[0m\u001b[90m String  \u001b[0m\u001b[90m String \u001b[0m\u001b[90m String    \u001b[0m ⋯\n",
       "─────┼──────────────────────────────────────────────────────────────────────────\n",
       "   1 │         BMC Racing Team                                      20         ⋯\n",
       "   2 │         BMC Racing Team                                      20\n",
       "   3 │         BMC Racing Team                                      20\n",
       "   4 │         BMC Racing Team                                      20\n",
       "   5 │         BMC Racing Team                                      20         ⋯\n",
       "   6 │         BMC Racing Team                                      20\n",
       "   7 │         BMC Racing Team                                      20\n",
       "   8 │         BMC Racing Team                                      20\n",
       "  ⋮  │   ⋮                 ⋮                 ⋮        ⋮       ⋮         ⋮      ⋱\n",
       " 178 │         Cofidis, Solutions Crédits                                      ⋯\n",
       " 179 │         Cofidis, Solutions Crédits\n",
       " 180 │         Orica GreenEDGE\n",
       " 181 │         Orica GreenEDGE\n",
       " 182 │         Orica GreenEDGE                                                 ⋯\n",
       " 183 │         Orica GreenEDGE\n",
       " 184 │         Orica GreenEDGE\n",
       "\u001b[36m                                                  4 columns and 169 rows omitted\u001b[0m"
      ]
     },
     "metadata": {},
     "output_type": "display_data"
    }
   ],
   "source": [
    "\n",
    "\n",
    "DataFramesMeta.dropmissing!(test)\n",
    "\n",
    "# findall((test.Timelag .== \"\") .& (test.Timelag .!= missing))\n"
   ]
  }
 ],
 "metadata": {
  "kernelspec": {
   "display_name": "Julia 1.6.2",
   "language": "julia",
   "name": "julia-1.6"
  },
  "language_info": {
   "file_extension": ".jl",
   "mimetype": "application/julia",
   "name": "julia",
   "version": "1.6.2"
  },
  "orig_nbformat": 4
 },
 "nbformat": 4,
 "nbformat_minor": 2
}
